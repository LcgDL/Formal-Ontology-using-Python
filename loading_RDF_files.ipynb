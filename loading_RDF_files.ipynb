{
  "nbformat": 4,
  "nbformat_minor": 0,
  "metadata": {
    "colab": {
      "provenance": []
    },
    "kernelspec": {
      "name": "python3",
      "display_name": "Python 3"
    },
    "language_info": {
      "name": "python"
    }
  },
  "cells": [
    {
      "cell_type": "code",
      "execution_count": 1,
      "metadata": {
        "colab": {
          "base_uri": "https://localhost:8080/"
        },
        "id": "qW4mei1X7g0E",
        "outputId": "e641d7a4-2964-4f02-a844-35e9661207c4"
      },
      "outputs": [
        {
          "output_type": "stream",
          "name": "stdout",
          "text": [
            "Collecting rdflib\n",
            "  Downloading rdflib-7.0.0-py3-none-any.whl (531 kB)\n",
            "\u001b[2K     \u001b[90m━━━━━━━━━━━━━━━━━━━━━━━━━━━━━━━━━━━━━━━━\u001b[0m \u001b[32m531.9/531.9 kB\u001b[0m \u001b[31m7.7 MB/s\u001b[0m eta \u001b[36m0:00:00\u001b[0m\n",
            "\u001b[?25hCollecting isodate<0.7.0,>=0.6.0 (from rdflib)\n",
            "  Downloading isodate-0.6.1-py2.py3-none-any.whl (41 kB)\n",
            "\u001b[2K     \u001b[90m━━━━━━━━━━━━━━━━━━━━━━━━━━━━━━━━━━━━━━━━\u001b[0m \u001b[32m41.7/41.7 kB\u001b[0m \u001b[31m3.9 MB/s\u001b[0m eta \u001b[36m0:00:00\u001b[0m\n",
            "\u001b[?25hRequirement already satisfied: pyparsing<4,>=2.1.0 in /usr/local/lib/python3.10/dist-packages (from rdflib) (3.1.1)\n",
            "Requirement already satisfied: six in /usr/local/lib/python3.10/dist-packages (from isodate<0.7.0,>=0.6.0->rdflib) (1.16.0)\n",
            "Installing collected packages: isodate, rdflib\n",
            "Successfully installed isodate-0.6.1 rdflib-7.0.0\n"
          ]
        }
      ],
      "source": [
        "!pip install rdflib"
      ]
    },
    {
      "cell_type": "code",
      "source": [
        "import rdflib"
      ],
      "metadata": {
        "id": "Eup42x0O7sBJ"
      },
      "execution_count": 2,
      "outputs": []
    },
    {
      "cell_type": "markdown",
      "source": [
        "Initialization of a graph"
      ],
      "metadata": {
        "id": "jzoYvZqc70Uf"
      }
    },
    {
      "cell_type": "code",
      "source": [
        "g = rdflib.Graph()"
      ],
      "metadata": {
        "id": "I3Ylnpjv7vzt"
      },
      "execution_count": 3,
      "outputs": []
    },
    {
      "cell_type": "markdown",
      "source": [
        "Parsing the graph in an RDF file graph from the web"
      ],
      "metadata": {
        "id": "TokhSnlh8CLS"
      }
    },
    {
      "cell_type": "code",
      "source": [
        "g.parse('https://dbpedia.org/resource/Python_(programming_language)')"
      ],
      "metadata": {
        "colab": {
          "base_uri": "https://localhost:8080/"
        },
        "id": "5hO8o8oq7vwK",
        "outputId": "76d08f64-7e2e-4875-af52-2404a33ce164"
      },
      "execution_count": 7,
      "outputs": [
        {
          "output_type": "execute_result",
          "data": {
            "text/plain": [
              "<Graph identifier=N6a2429c8c0da4ec79a99759d21105ede (<class 'rdflib.graph.Graph'>)>"
            ]
          },
          "metadata": {},
          "execution_count": 7
        }
      ]
    },
    {
      "cell_type": "code",
      "source": [
        "#number of statements\n",
        "print(len(g))"
      ],
      "metadata": {
        "colab": {
          "base_uri": "https://localhost:8080/"
        },
        "id": "0ZMtnAHw7vs9",
        "outputId": "8a2baec1-b2ba-4083-ecde-b2c0c3d51be6"
      },
      "execution_count": 8,
      "outputs": [
        {
          "output_type": "stream",
          "name": "stdout",
          "text": [
            "789\n"
          ]
        }
      ]
    },
    {
      "cell_type": "code",
      "source": [
        "#checking directory\n",
        "!ls"
      ],
      "metadata": {
        "colab": {
          "base_uri": "https://localhost:8080/"
        },
        "id": "7iGoWnp97vpv",
        "outputId": "57cba844-ab61-4cbd-d1f5-b30686ffca91"
      },
      "execution_count": 13,
      "outputs": [
        {
          "output_type": "stream",
          "name": "stdout",
          "text": [
            "examp.xml  sample_data\n"
          ]
        }
      ]
    },
    {
      "cell_type": "code",
      "source": [
        "!cat examp.xml"
      ],
      "metadata": {
        "colab": {
          "base_uri": "https://localhost:8080/"
        },
        "id": "6OD-DwXY9KM5",
        "outputId": "32e6466a-2461-4dba-e0eb-5f2c595b4d58"
      },
      "execution_count": 14,
      "outputs": [
        {
          "output_type": "stream",
          "name": "stdout",
          "text": [
            "<?xml version=\"1.0\"?>\n",
            "<rdf:RDF xmlns:rdf=\"http://www.w3.org/1999/02/22-rdf-syntax-ns#\"\n",
            "            xmlns:dc=\"http://purl.org/dc/elements/1.1/\"\n",
            "            xmlns:ex=\"http://example.org/stuff/1.0/\">\n",
            "\n",
            "  <rdf:Description rdf:about=\"http://www.w3.org/TR/rdf-syntax-grammar\"\n",
            "             dc:title=\"RDF1.1 XML Syntax\">\n",
            "    <ex:editor>\n",
            "      <rdf:Description ex:fullName=\"Dave Beckett\">\n",
            "        <ex:homePage rdf:resource=\"http://purl.org/net/dajobe/\" />\n",
            "      </rdf:Description>\n",
            "    </ex:editor>\n",
            "  </rdf:Description>\n",
            "\n",
            "</rdf:RDF>\n"
          ]
        }
      ]
    },
    {
      "cell_type": "markdown",
      "source": [
        "Parsing in an RDF file from a file"
      ],
      "metadata": {
        "id": "NQKH2l8iApZf"
      }
    },
    {
      "cell_type": "code",
      "source": [
        "h = rdflib.Graph()"
      ],
      "metadata": {
        "id": "R4bfwryG9KJz"
      },
      "execution_count": 15,
      "outputs": []
    },
    {
      "cell_type": "code",
      "source": [
        "format_ = rdflib.util.guess_format('examp.xml')"
      ],
      "metadata": {
        "id": "IuWZhMmC9KGj"
      },
      "execution_count": 16,
      "outputs": []
    },
    {
      "cell_type": "code",
      "source": [
        "h.parse('examp.xml',format=format_)"
      ],
      "metadata": {
        "colab": {
          "base_uri": "https://localhost:8080/"
        },
        "id": "TUIWp5wD9KDZ",
        "outputId": "efd3b14e-5fb1-47be-ec1c-c765c816b9a7"
      },
      "execution_count": 17,
      "outputs": [
        {
          "output_type": "execute_result",
          "data": {
            "text/plain": [
              "<Graph identifier=Nc055f8c768984ed0a57ba908574afb08 (<class 'rdflib.graph.Graph'>)>"
            ]
          },
          "metadata": {},
          "execution_count": 17
        }
      ]
    },
    {
      "cell_type": "code",
      "source": [
        "print(f'Graph h has {len(h)} facts')"
      ],
      "metadata": {
        "colab": {
          "base_uri": "https://localhost:8080/"
        },
        "id": "O5WJ3U9L9J_t",
        "outputId": "d69e0b18-d483-444b-c1be-15a451c9b4b7"
      },
      "execution_count": 18,
      "outputs": [
        {
          "output_type": "stream",
          "name": "stdout",
          "text": [
            "Graph h has 4 facts\n"
          ]
        }
      ]
    },
    {
      "cell_type": "code",
      "source": [
        "print(h.serialize())"
      ],
      "metadata": {
        "colab": {
          "base_uri": "https://localhost:8080/"
        },
        "id": "eIHMIu3y9J8A",
        "outputId": "4fa8759f-d4fb-4063-8ab8-4f543751eaa4"
      },
      "execution_count": 23,
      "outputs": [
        {
          "output_type": "stream",
          "name": "stdout",
          "text": [
            "@prefix dc: <http://purl.org/dc/elements/1.1/> .\n",
            "@prefix ex: <http://example.org/stuff/1.0/> .\n",
            "\n",
            "<http://www.w3.org/TR/rdf-syntax-grammar> ex:editor [ ex:fullName \"Dave Beckett\" ;\n",
            "            ex:homePage <http://purl.org/net/dajobe/> ] ;\n",
            "    dc:title \"RDF1.1 XML Syntax\" .\n",
            "\n",
            "\n"
          ]
        }
      ]
    },
    {
      "cell_type": "code",
      "source": [
        "for t in h:\n",
        "  print(t)"
      ],
      "metadata": {
        "colab": {
          "base_uri": "https://localhost:8080/"
        },
        "id": "YBcdzM-NBP9N",
        "outputId": "5d0f3bb3-b15d-43ef-f711-6271d5981489"
      },
      "execution_count": 24,
      "outputs": [
        {
          "output_type": "stream",
          "name": "stdout",
          "text": [
            "(rdflib.term.URIRef('http://www.w3.org/TR/rdf-syntax-grammar'), rdflib.term.URIRef('http://example.org/stuff/1.0/editor'), rdflib.term.BNode('Nf21800cf734246f49257c5d40dc5584b'))\n",
            "(rdflib.term.BNode('Nf21800cf734246f49257c5d40dc5584b'), rdflib.term.URIRef('http://example.org/stuff/1.0/homePage'), rdflib.term.URIRef('http://purl.org/net/dajobe/'))\n",
            "(rdflib.term.BNode('Nf21800cf734246f49257c5d40dc5584b'), rdflib.term.URIRef('http://example.org/stuff/1.0/fullName'), rdflib.term.Literal('Dave Beckett'))\n",
            "(rdflib.term.URIRef('http://www.w3.org/TR/rdf-syntax-grammar'), rdflib.term.URIRef('http://purl.org/dc/elements/1.1/title'), rdflib.term.Literal('RDF1.1 XML Syntax'))\n"
          ]
        }
      ]
    },
    {
      "cell_type": "markdown",
      "source": [
        "Parsing RDF from a string"
      ],
      "metadata": {
        "id": "2QekQSi-FqcI"
      }
    },
    {
      "cell_type": "code",
      "source": [
        "data = '''<http://bigasterisk.com/foaf.rdf#drewp> <hhtp://example.com/says> \"hello world\" .'''"
      ],
      "metadata": {
        "id": "NJXs2wR-De7t"
      },
      "execution_count": 27,
      "outputs": []
    },
    {
      "cell_type": "code",
      "source": [
        "j = rdflib.Graph()\n",
        "j.parse(data=data, format='n3')\n",
        "print(f'Graph j has {len(j)} facts')"
      ],
      "metadata": {
        "colab": {
          "base_uri": "https://localhost:8080/"
        },
        "id": "uUvR_N_jFv8r",
        "outputId": "6ed97882-fd51-4255-a455-d87b174037af"
      },
      "execution_count": 28,
      "outputs": [
        {
          "output_type": "stream",
          "name": "stdout",
          "text": [
            "Graph j has 1 facts\n"
          ]
        }
      ]
    },
    {
      "cell_type": "code",
      "source": [
        "for s,p,o in j:\n",
        "  print(s,p,o)"
      ],
      "metadata": {
        "colab": {
          "base_uri": "https://localhost:8080/"
        },
        "id": "aJ813Z6uBP6I",
        "outputId": "539adf6c-7383-4e54-dafe-7cb24b4356e2"
      },
      "execution_count": 31,
      "outputs": [
        {
          "output_type": "stream",
          "name": "stdout",
          "text": [
            "http://bigasterisk.com/foaf.rdf#drewp hhtp://example.com/says hello world\n"
          ]
        }
      ]
    },
    {
      "cell_type": "code",
      "source": [
        "#print graph\n",
        "print(j.serialize(format='ttl'))"
      ],
      "metadata": {
        "colab": {
          "base_uri": "https://localhost:8080/"
        },
        "id": "nNMt4-0qGfNr",
        "outputId": "ab5881d5-4528-4f1e-c90a-e0d7cd08288c"
      },
      "execution_count": 34,
      "outputs": [
        {
          "output_type": "stream",
          "name": "stdout",
          "text": [
            "@prefix ns1: <hhtp://example.com/> .\n",
            "\n",
            "<http://bigasterisk.com/foaf.rdf#drewp> ns1:says \"hello world\" .\n",
            "\n",
            "\n"
          ]
        }
      ]
    },
    {
      "cell_type": "code",
      "source": [
        "#saving the graph 'h'\n",
        "h.serialize('examp2.nt',format='nt')"
      ],
      "metadata": {
        "colab": {
          "base_uri": "https://localhost:8080/"
        },
        "id": "eQxco7ckBP2-",
        "outputId": "92333dd4-265c-4fd3-b707-a8bda4c20d5f"
      },
      "execution_count": 36,
      "outputs": [
        {
          "output_type": "stream",
          "name": "stderr",
          "text": [
            "/usr/local/lib/python3.10/dist-packages/rdflib/plugins/serializers/nt.py:40: UserWarning: NTSerializer always uses UTF-8 encoding. Given encoding was: None\n",
            "  warnings.warn(\n"
          ]
        },
        {
          "output_type": "execute_result",
          "data": {
            "text/plain": [
              "<Graph identifier=Nc055f8c768984ed0a57ba908574afb08 (<class 'rdflib.graph.Graph'>)>"
            ]
          },
          "metadata": {},
          "execution_count": 36
        }
      ]
    }
  ]
}