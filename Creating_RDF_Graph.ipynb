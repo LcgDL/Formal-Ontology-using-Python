{
  "nbformat": 4,
  "nbformat_minor": 0,
  "metadata": {
    "colab": {
      "provenance": []
    },
    "kernelspec": {
      "name": "python3",
      "display_name": "Python 3"
    },
    "language_info": {
      "name": "python"
    }
  },
  "cells": [
    {
      "cell_type": "code",
      "execution_count": 1,
      "metadata": {
        "id": "Gaf3b2L9SF4z",
        "colab": {
          "base_uri": "https://localhost:8080/"
        },
        "outputId": "41392978-ff36-41e3-f8ad-dbe88c433b14"
      },
      "outputs": [
        {
          "output_type": "stream",
          "name": "stdout",
          "text": [
            "Collecting rdflib\n",
            "  Downloading rdflib-7.0.0-py3-none-any.whl (531 kB)\n",
            "\u001b[2K     \u001b[90m━━━━━━━━━━━━━━━━━━━━━━━━━━━━━━━━━━━━━━━━\u001b[0m \u001b[32m531.9/531.9 kB\u001b[0m \u001b[31m7.5 MB/s\u001b[0m eta \u001b[36m0:00:00\u001b[0m\n",
            "\u001b[?25hCollecting isodate<0.7.0,>=0.6.0 (from rdflib)\n",
            "  Downloading isodate-0.6.1-py2.py3-none-any.whl (41 kB)\n",
            "\u001b[2K     \u001b[90m━━━━━━━━━━━━━━━━━━━━━━━━━━━━━━━━━━━━━━━━\u001b[0m \u001b[32m41.7/41.7 kB\u001b[0m \u001b[31m4.3 MB/s\u001b[0m eta \u001b[36m0:00:00\u001b[0m\n",
            "\u001b[?25hRequirement already satisfied: pyparsing<4,>=2.1.0 in /usr/local/lib/python3.10/dist-packages (from rdflib) (3.1.1)\n",
            "Requirement already satisfied: six in /usr/local/lib/python3.10/dist-packages (from isodate<0.7.0,>=0.6.0->rdflib) (1.16.0)\n",
            "Installing collected packages: isodate, rdflib\n",
            "Successfully installed isodate-0.6.1 rdflib-7.0.0\n"
          ]
        }
      ],
      "source": [
        "!pip install rdflib"
      ]
    },
    {
      "cell_type": "code",
      "source": [
        "from rdflib import URIRef, BNode, Literal, Namespace\n",
        "from rdflib.namespace import FOAF, DCTERMS, XSD,RDF, SDO"
      ],
      "metadata": {
        "id": "gnAimRHVSfOe"
      },
      "execution_count": 3,
      "outputs": []
    },
    {
      "cell_type": "markdown",
      "source": [
        " URIRef is a node where the exact URI is know.\n",
        "  \n",
        " URIRefs are also used to represent the properties or predicates in the RDF graph."
      ],
      "metadata": {
        "id": "DLcmRAEIiBNX"
      }
    },
    {
      "cell_type": "code",
      "source": [
        "mona_lisa = URIRef('https://www.wikidata.org/entity/Q12418')\n",
        "davinci = URIRef('https://dbpedia.org/resource/Leonardo_da_Vinci')\n",
        "lajoconde = URIRef('https://data.europeana.eu/item/04802/243FA8618938F4117025F17A8B813C5F9AA4D619')"
      ],
      "metadata": {
        "id": "NQjw3Eo2SfLn"
      },
      "execution_count": 5,
      "outputs": []
    },
    {
      "cell_type": "code",
      "source": [
        "#Just a example, a custom name\n",
        "EX = Namespace('http://example.org/')\n",
        "bob = EX['Bob']\n",
        "alice = EX['Alice']\n",
        "\n",
        "birth_data = Literal(\"1950-07-04\", datatype=XSD['date'])\n",
        "title = Literal('Mona Lisa', lang='en')"
      ],
      "metadata": {
        "id": "75S0RjroSfIw"
      },
      "execution_count": 6,
      "outputs": []
    },
    {
      "cell_type": "code",
      "source": [
        "title.value"
      ],
      "metadata": {
        "id": "GS7703SySfF_",
        "colab": {
          "base_uri": "https://localhost:8080/",
          "height": 34
        },
        "outputId": "f2ce7312-1df9-418a-f8e3-3fe761cc6bf2"
      },
      "execution_count": 8,
      "outputs": [
        {
          "output_type": "execute_result",
          "data": {
            "text/plain": [
              "rdflib.term.Literal('Mona Lisa', lang='en')"
            ],
            "application/vnd.google.colaboratory.intrinsic+json": {
              "type": "string"
            }
          },
          "metadata": {},
          "execution_count": 8
        }
      ]
    },
    {
      "cell_type": "code",
      "source": [
        "title.language"
      ],
      "metadata": {
        "id": "YJu21_nMSfC9",
        "colab": {
          "base_uri": "https://localhost:8080/",
          "height": 36
        },
        "outputId": "dbf8a51e-0e64-463b-ca99-aae4a734f25d"
      },
      "execution_count": 10,
      "outputs": [
        {
          "output_type": "execute_result",
          "data": {
            "text/plain": [
              "'en'"
            ],
            "application/vnd.google.colaboratory.intrinsic+json": {
              "type": "string"
            }
          },
          "metadata": {},
          "execution_count": 10
        }
      ]
    },
    {
      "cell_type": "code",
      "source": [
        "title"
      ],
      "metadata": {
        "id": "jDiIx2J6Se_6",
        "colab": {
          "base_uri": "https://localhost:8080/",
          "height": 34
        },
        "outputId": "f84940b1-2acf-4449-edff-df8607b35272"
      },
      "execution_count": 12,
      "outputs": [
        {
          "output_type": "execute_result",
          "data": {
            "text/plain": [
              "rdflib.term.Literal('Mona Lisa', lang='en')"
            ],
            "application/vnd.google.colaboratory.intrinsic+json": {
              "type": "string"
            }
          },
          "metadata": {},
          "execution_count": 12
        }
      ]
    },
    {
      "cell_type": "code",
      "source": [
        "from rdflib import Graph\n",
        "g = Graph()\n",
        "\n",
        "#Tuple: subject,predicad,object\n",
        "g.add((bob, RDF.type, FOAF.Person))\n",
        "g.add((bob, FOAF.knows, alice))\n",
        "g.add((bob, FOAF['topic_interest'], mona_lisa))\n",
        "g.add((bob,SDO['birth_date'], birth_data))\n",
        "g.add((mona_lisa, DCTERMS['creator'],davinci))\n",
        "g.add((mona_lisa, DCTERMS['title'],title))\n",
        "g.add((mona_lisa, DCTERMS['subject'],mona_lisa))"
      ],
      "metadata": {
        "id": "lgZnvoGMSe8i",
        "colab": {
          "base_uri": "https://localhost:8080/"
        },
        "outputId": "bd40021e-c5b2-44ae-da39-d9ecc63177e6"
      },
      "execution_count": 22,
      "outputs": [
        {
          "output_type": "execute_result",
          "data": {
            "text/plain": [
              "<Graph identifier=Nb10c1f14c66541d2875849fc4a4870fa (<class 'rdflib.graph.Graph'>)>"
            ]
          },
          "metadata": {},
          "execution_count": 22
        }
      ]
    },
    {
      "cell_type": "markdown",
      "source": [
        "Turtle format"
      ],
      "metadata": {
        "id": "np_Llin9mM5N"
      }
    },
    {
      "cell_type": "code",
      "source": [
        "print(g.serialize(format='ttl'))"
      ],
      "metadata": {
        "colab": {
          "base_uri": "https://localhost:8080/"
        },
        "id": "KzAmwXjfjsX_",
        "outputId": "a5557cb2-f7b0-4419-ae83-4a1fe7a90c54"
      },
      "execution_count": 20,
      "outputs": [
        {
          "output_type": "stream",
          "name": "stdout",
          "text": [
            "@prefix dcterms: <http://purl.org/dc/terms/> .\n",
            "@prefix foaf: <http://xmlns.com/foaf/0.1/> .\n",
            "@prefix schema: <https://schema.org/> .\n",
            "@prefix xsd: <http://www.w3.org/2001/XMLSchema#> .\n",
            "\n",
            "<http://example.org/Bob> a foaf:Person ;\n",
            "    foaf:knows <http://example.org/Alice> ;\n",
            "    foaf:topic_interest <https://www.wikidata.org/entity/Q12418> ;\n",
            "    schema:birth_date \"1950-07-04\"^^xsd:date .\n",
            "\n",
            "<https://www.wikidata.org/entity/Q12418> dcterms:creator <https://dbpedia.org/resource/Leonardo_da_Vinci> ;\n",
            "    dcterms:subject <https://www.wikidata.org/entity/Q12418> ;\n",
            "    dcterms:title \"Mona Lisa\"@en .\n",
            "\n",
            "\n"
          ]
        }
      ]
    },
    {
      "cell_type": "markdown",
      "source": [
        "XML format"
      ],
      "metadata": {
        "id": "qgM9_nOMmPJR"
      }
    },
    {
      "cell_type": "code",
      "source": [
        "print(g.serialize(format='xml'))"
      ],
      "metadata": {
        "colab": {
          "base_uri": "https://localhost:8080/"
        },
        "id": "rEAfd0VYjsUr",
        "outputId": "53cd346e-f1f0-4b60-f849-fec81a454f60"
      },
      "execution_count": 21,
      "outputs": [
        {
          "output_type": "stream",
          "name": "stdout",
          "text": [
            "<?xml version=\"1.0\" encoding=\"utf-8\"?>\n",
            "<rdf:RDF\n",
            "   xmlns:dcterms=\"http://purl.org/dc/terms/\"\n",
            "   xmlns:foaf=\"http://xmlns.com/foaf/0.1/\"\n",
            "   xmlns:rdf=\"http://www.w3.org/1999/02/22-rdf-syntax-ns#\"\n",
            "   xmlns:schema=\"https://schema.org/\"\n",
            ">\n",
            "  <rdf:Description rdf:about=\"http://example.org/Bob\">\n",
            "    <rdf:type rdf:resource=\"http://xmlns.com/foaf/0.1/Person\"/>\n",
            "    <foaf:knows rdf:resource=\"http://example.org/Alice\"/>\n",
            "    <foaf:topic_interest rdf:resource=\"https://www.wikidata.org/entity/Q12418\"/>\n",
            "    <schema:birth_date rdf:datatype=\"http://www.w3.org/2001/XMLSchema#date\">1950-07-04</schema:birth_date>\n",
            "  </rdf:Description>\n",
            "  <rdf:Description rdf:about=\"https://www.wikidata.org/entity/Q12418\">\n",
            "    <dcterms:creator rdf:resource=\"https://dbpedia.org/resource/Leonardo_da_Vinci\"/>\n",
            "    <dcterms:title xml:lang=\"en\">Mona Lisa</dcterms:title>\n",
            "    <dcterms:subject rdf:resource=\"https://www.wikidata.org/entity/Q12418\"/>\n",
            "  </rdf:Description>\n",
            "</rdf:RDF>\n",
            "\n"
          ]
        }
      ]
    },
    {
      "cell_type": "code",
      "source": [
        "print(g.serialize(format='ttl'))"
      ],
      "metadata": {
        "id": "yN6yLo-ojsRz"
      },
      "execution_count": null,
      "outputs": []
    },
    {
      "cell_type": "markdown",
      "source": [
        "Binding preficxes to names"
      ],
      "metadata": {
        "id": "CmRxwy1gmezB"
      }
    },
    {
      "cell_type": "code",
      "source": [
        "from rdflib import Graph\n",
        "g = Graph()\n",
        "\n",
        "g.bind('ex', EX)\n",
        "g.bind('foaf', FOAF)\n",
        "g.bind('schema', SDO)\n",
        "g.bind('dcterms', DCTERMS)\n",
        "\n",
        "#Tuple: subject,predicad,object\n",
        "g.add((bob, RDF.type, FOAF.Person))\n",
        "g.add((bob, FOAF.knows, alice))\n",
        "g.add((bob, FOAF['topic_interest'], mona_lisa))\n",
        "g.add((bob,SDO['birth_date'], birth_data))\n",
        "g.add((mona_lisa, DCTERMS['creator'],davinci))\n",
        "g.add((mona_lisa, DCTERMS['title'],title))\n",
        "g.add((mona_lisa, DCTERMS['subject'],mona_lisa))"
      ],
      "metadata": {
        "colab": {
          "base_uri": "https://localhost:8080/"
        },
        "id": "5kRwHjITmeWL",
        "outputId": "894e36a7-06e9-41ed-9a8c-aacc3c3d40a7"
      },
      "execution_count": 23,
      "outputs": [
        {
          "output_type": "execute_result",
          "data": {
            "text/plain": [
              "<Graph identifier=Nd2c29d81c8f74158891029b20393c480 (<class 'rdflib.graph.Graph'>)>"
            ]
          },
          "metadata": {},
          "execution_count": 23
        }
      ]
    },
    {
      "cell_type": "code",
      "source": [
        "print(g.serialize(format='ttl'))"
      ],
      "metadata": {
        "colab": {
          "base_uri": "https://localhost:8080/"
        },
        "id": "ZYBLEslOjsN3",
        "outputId": "c2b5f6dd-1cf6-4b0f-f171-27df88d0ea42"
      },
      "execution_count": 24,
      "outputs": [
        {
          "output_type": "stream",
          "name": "stdout",
          "text": [
            "@prefix dcterms: <http://purl.org/dc/terms/> .\n",
            "@prefix ex: <http://example.org/> .\n",
            "@prefix foaf: <http://xmlns.com/foaf/0.1/> .\n",
            "@prefix schema: <https://schema.org/> .\n",
            "@prefix xsd: <http://www.w3.org/2001/XMLSchema#> .\n",
            "\n",
            "ex:Bob a foaf:Person ;\n",
            "    foaf:knows ex:Alice ;\n",
            "    foaf:topic_interest <https://www.wikidata.org/entity/Q12418> ;\n",
            "    schema:birth_date \"1950-07-04\"^^xsd:date .\n",
            "\n",
            "<https://www.wikidata.org/entity/Q12418> dcterms:creator <https://dbpedia.org/resource/Leonardo_da_Vinci> ;\n",
            "    dcterms:subject <https://www.wikidata.org/entity/Q12418> ;\n",
            "    dcterms:title \"Mona Lisa\"@en .\n",
            "\n",
            "\n"
          ]
        }
      ]
    },
    {
      "cell_type": "code",
      "source": [
        "for prefix, ns in g.namespaces():\n",
        "    print(ns)"
      ],
      "metadata": {
        "colab": {
          "base_uri": "https://localhost:8080/"
        },
        "id": "fUjSVCDEna-O",
        "outputId": "5c370982-e11f-49c3-9373-3985aa3458e9"
      },
      "execution_count": 26,
      "outputs": [
        {
          "output_type": "stream",
          "name": "stdout",
          "text": [
            "https://brickschema.org/schema/Brick#\n",
            "http://www.w3.org/ns/csvw#\n",
            "http://purl.org/dc/elements/1.1/\n",
            "http://www.w3.org/ns/dcat#\n",
            "http://purl.org/dc/dcmitype/\n",
            "http://purl.org/dc/terms/\n",
            "http://purl.org/dc/dcam/\n",
            "http://usefulinc.com/ns/doap#\n",
            "http://xmlns.com/foaf/0.1/\n",
            "http://www.opengis.net/ont/geosparql#\n",
            "http://www.w3.org/ns/odrl/2/\n",
            "http://www.w3.org/ns/org#\n",
            "http://www.w3.org/ns/dx/prof/\n",
            "http://www.w3.org/ns/prov#\n",
            "http://purl.org/linked-data/cube#\n",
            "https://schema.org/\n",
            "http://www.w3.org/ns/shacl#\n",
            "http://www.w3.org/2004/02/skos/core#\n",
            "http://www.w3.org/ns/sosa/\n",
            "http://www.w3.org/ns/ssn/\n",
            "http://www.w3.org/2006/time#\n",
            "http://purl.org/vocab/vann/\n",
            "http://rdfs.org/ns/void#\n",
            "https://www.w3.org/2003/01/geo/wgs84_pos#\n",
            "http://www.w3.org/2002/07/owl#\n",
            "http://www.w3.org/1999/02/22-rdf-syntax-ns#\n",
            "http://www.w3.org/2000/01/rdf-schema#\n",
            "http://www.w3.org/2001/XMLSchema#\n",
            "http://www.w3.org/XML/1998/namespace\n",
            "http://example.org/\n"
          ]
        }
      ]
    },
    {
      "cell_type": "code",
      "source": [
        "for prefix, ns in g.namespaces():\n",
        "    print(prefix,ns)"
      ],
      "metadata": {
        "colab": {
          "base_uri": "https://localhost:8080/"
        },
        "id": "O3GQyEDYna6q",
        "outputId": "78881759-c588-41d9-aac1-39d2b5391d05"
      },
      "execution_count": 27,
      "outputs": [
        {
          "output_type": "stream",
          "name": "stdout",
          "text": [
            "brick https://brickschema.org/schema/Brick#\n",
            "csvw http://www.w3.org/ns/csvw#\n",
            "dc http://purl.org/dc/elements/1.1/\n",
            "dcat http://www.w3.org/ns/dcat#\n",
            "dcmitype http://purl.org/dc/dcmitype/\n",
            "dcterms http://purl.org/dc/terms/\n",
            "dcam http://purl.org/dc/dcam/\n",
            "doap http://usefulinc.com/ns/doap#\n",
            "foaf http://xmlns.com/foaf/0.1/\n",
            "geo http://www.opengis.net/ont/geosparql#\n",
            "odrl http://www.w3.org/ns/odrl/2/\n",
            "org http://www.w3.org/ns/org#\n",
            "prof http://www.w3.org/ns/dx/prof/\n",
            "prov http://www.w3.org/ns/prov#\n",
            "qb http://purl.org/linked-data/cube#\n",
            "schema https://schema.org/\n",
            "sh http://www.w3.org/ns/shacl#\n",
            "skos http://www.w3.org/2004/02/skos/core#\n",
            "sosa http://www.w3.org/ns/sosa/\n",
            "ssn http://www.w3.org/ns/ssn/\n",
            "time http://www.w3.org/2006/time#\n",
            "vann http://purl.org/vocab/vann/\n",
            "void http://rdfs.org/ns/void#\n",
            "wgs https://www.w3.org/2003/01/geo/wgs84_pos#\n",
            "owl http://www.w3.org/2002/07/owl#\n",
            "rdf http://www.w3.org/1999/02/22-rdf-syntax-ns#\n",
            "rdfs http://www.w3.org/2000/01/rdf-schema#\n",
            "xsd http://www.w3.org/2001/XMLSchema#\n",
            "xml http://www.w3.org/XML/1998/namespace\n",
            "ex http://example.org/\n"
          ]
        }
      ]
    },
    {
      "cell_type": "markdown",
      "source": [
        "Replacing literal values"
      ],
      "metadata": {
        "id": "gAGVpyjOn1uw"
      }
    },
    {
      "cell_type": "code",
      "source": [
        "g.set((bob, SDO['birth_Date'], Literal('1990-01-01',datatype=XSD.date)))\n",
        "g.set((mona_lisa, DCTERMS['title'], Literal('La Joconde',lang='fr')))"
      ],
      "metadata": {
        "colab": {
          "base_uri": "https://localhost:8080/"
        },
        "id": "-_vqv67Ena2y",
        "outputId": "327d99c8-2e30-4471-e6e3-d3c1c7bbb53b"
      },
      "execution_count": 30,
      "outputs": [
        {
          "output_type": "execute_result",
          "data": {
            "text/plain": [
              "<Graph identifier=Nd2c29d81c8f74158891029b20393c480 (<class 'rdflib.graph.Graph'>)>"
            ]
          },
          "metadata": {},
          "execution_count": 30
        }
      ]
    },
    {
      "cell_type": "code",
      "source": [
        "print(g.serialize(format='ttl'))"
      ],
      "metadata": {
        "colab": {
          "base_uri": "https://localhost:8080/"
        },
        "id": "YLuO6lHijsKm",
        "outputId": "8ddc9de7-d2d9-4dc0-987c-1a4cd04e79d7"
      },
      "execution_count": 31,
      "outputs": [
        {
          "output_type": "stream",
          "name": "stdout",
          "text": [
            "@prefix dcterms: <http://purl.org/dc/terms/> .\n",
            "@prefix ex: <http://example.org/> .\n",
            "@prefix foaf: <http://xmlns.com/foaf/0.1/> .\n",
            "@prefix schema: <https://schema.org/> .\n",
            "@prefix xsd: <http://www.w3.org/2001/XMLSchema#> .\n",
            "\n",
            "ex:Bob a foaf:Person ;\n",
            "    foaf:knows ex:Alice ;\n",
            "    foaf:topic_interest <https://www.wikidata.org/entity/Q12418> ;\n",
            "    schema:birth_Date \"1990-01-01\"^^xsd:date ;\n",
            "    schema:birth_date \"1950-07-04\"^^xsd:date .\n",
            "\n",
            "<https://www.wikidata.org/entity/Q12418> dcterms:creator <https://dbpedia.org/resource/Leonardo_da_Vinci> ;\n",
            "    dcterms:subject <https://www.wikidata.org/entity/Q12418> ;\n",
            "    dcterms:title \"La Joconde\"@fr .\n",
            "\n",
            "\n"
          ]
        }
      ]
    },
    {
      "cell_type": "markdown",
      "source": [
        "Removing triples from Graph"
      ],
      "metadata": {
        "id": "5PrV7XLYoxzU"
      }
    },
    {
      "cell_type": "code",
      "source": [
        "g.remove((lajoconde, None, None))"
      ],
      "metadata": {
        "colab": {
          "base_uri": "https://localhost:8080/"
        },
        "id": "_YsXF3M5orku",
        "outputId": "cae95631-cb73-414c-e1f7-4730ae0fc291"
      },
      "execution_count": 32,
      "outputs": [
        {
          "output_type": "execute_result",
          "data": {
            "text/plain": [
              "<Graph identifier=Nd2c29d81c8f74158891029b20393c480 (<class 'rdflib.graph.Graph'>)>"
            ]
          },
          "metadata": {},
          "execution_count": 32
        }
      ]
    },
    {
      "cell_type": "code",
      "source": [
        "print(g.serialize(format='ttl'))"
      ],
      "metadata": {
        "colab": {
          "base_uri": "https://localhost:8080/"
        },
        "id": "6XM2nlAupDCq",
        "outputId": "14d15b84-4eb8-49ee-ae00-ae989eaf01ff"
      },
      "execution_count": 33,
      "outputs": [
        {
          "output_type": "stream",
          "name": "stdout",
          "text": [
            "@prefix dcterms: <http://purl.org/dc/terms/> .\n",
            "@prefix ex: <http://example.org/> .\n",
            "@prefix foaf: <http://xmlns.com/foaf/0.1/> .\n",
            "@prefix schema: <https://schema.org/> .\n",
            "@prefix xsd: <http://www.w3.org/2001/XMLSchema#> .\n",
            "\n",
            "ex:Bob a foaf:Person ;\n",
            "    foaf:knows ex:Alice ;\n",
            "    foaf:topic_interest <https://www.wikidata.org/entity/Q12418> ;\n",
            "    schema:birth_Date \"1990-01-01\"^^xsd:date ;\n",
            "    schema:birth_date \"1950-07-04\"^^xsd:date .\n",
            "\n",
            "<https://www.wikidata.org/entity/Q12418> dcterms:creator <https://dbpedia.org/resource/Leonardo_da_Vinci> ;\n",
            "    dcterms:subject <https://www.wikidata.org/entity/Q12418> ;\n",
            "    dcterms:title \"La Joconde\"@fr .\n",
            "\n",
            "\n"
          ]
        }
      ]
    },
    {
      "cell_type": "code",
      "source": [
        "g.remove((mona_lisa, None, None))"
      ],
      "metadata": {
        "colab": {
          "base_uri": "https://localhost:8080/"
        },
        "id": "m91aiXYMpUPl",
        "outputId": "c06a8fa1-f885-4471-ecaf-7c1d58f582e3"
      },
      "execution_count": 35,
      "outputs": [
        {
          "output_type": "execute_result",
          "data": {
            "text/plain": [
              "<Graph identifier=Nd2c29d81c8f74158891029b20393c480 (<class 'rdflib.graph.Graph'>)>"
            ]
          },
          "metadata": {},
          "execution_count": 35
        }
      ]
    },
    {
      "cell_type": "code",
      "source": [
        "print(g.serialize(format='ttl'))"
      ],
      "metadata": {
        "colab": {
          "base_uri": "https://localhost:8080/"
        },
        "id": "CZ7pGTwMpUAr",
        "outputId": "eb7c0101-327f-4f71-f9fb-ea491ce03017"
      },
      "execution_count": 36,
      "outputs": [
        {
          "output_type": "stream",
          "name": "stdout",
          "text": [
            "@prefix ex: <http://example.org/> .\n",
            "@prefix foaf: <http://xmlns.com/foaf/0.1/> .\n",
            "@prefix schema: <https://schema.org/> .\n",
            "@prefix xsd: <http://www.w3.org/2001/XMLSchema#> .\n",
            "\n",
            "ex:Bob a foaf:Person ;\n",
            "    foaf:knows ex:Alice ;\n",
            "    foaf:topic_interest <https://www.wikidata.org/entity/Q12418> ;\n",
            "    schema:birth_Date \"1990-01-01\"^^xsd:date ;\n",
            "    schema:birth_date \"1950-07-04\"^^xsd:date .\n",
            "\n",
            "\n"
          ]
        }
      ]
    }
  ]
}