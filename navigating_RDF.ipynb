{
  "nbformat": 4,
  "nbformat_minor": 0,
  "metadata": {
    "colab": {
      "provenance": []
    },
    "kernelspec": {
      "name": "python3",
      "display_name": "Python 3"
    },
    "language_info": {
      "name": "python"
    }
  },
  "cells": [
    {
      "cell_type": "code",
      "execution_count": 2,
      "metadata": {
        "colab": {
          "base_uri": "https://localhost:8080/"
        },
        "id": "AkLSvG6wfBdc",
        "outputId": "aee43819-86de-45ae-d004-d1da9c377322"
      },
      "outputs": [
        {
          "output_type": "stream",
          "name": "stdout",
          "text": [
            "Collecting rdflib\n",
            "  Downloading rdflib-7.0.0-py3-none-any.whl (531 kB)\n",
            "\u001b[?25l     \u001b[90m━━━━━━━━━━━━━━━━━━━━━━━━━━━━━━━━━━━━━━━━\u001b[0m \u001b[32m0.0/531.9 kB\u001b[0m \u001b[31m?\u001b[0m eta \u001b[36m-:--:--\u001b[0m\r\u001b[2K     \u001b[91m━━━━━━━━━\u001b[0m\u001b[90m╺\u001b[0m\u001b[90m━━━━━━━━━━━━━━━━━━━━━━━━━━━━━━\u001b[0m \u001b[32m122.9/531.9 kB\u001b[0m \u001b[31m3.6 MB/s\u001b[0m eta \u001b[36m0:00:01\u001b[0m\r\u001b[2K     \u001b[91m━━━━━━━━━━━━━━━━━━━━━━━━━━━━━━━━━━━━━━\u001b[0m\u001b[91m╸\u001b[0m\u001b[90m━\u001b[0m \u001b[32m512.0/531.9 kB\u001b[0m \u001b[31m7.3 MB/s\u001b[0m eta \u001b[36m0:00:01\u001b[0m\r\u001b[2K     \u001b[90m━━━━━━━━━━━━━━━━━━━━━━━━━━━━━━━━━━━━━━━━\u001b[0m \u001b[32m531.9/531.9 kB\u001b[0m \u001b[31m6.4 MB/s\u001b[0m eta \u001b[36m0:00:00\u001b[0m\n",
            "\u001b[?25hCollecting isodate<0.7.0,>=0.6.0 (from rdflib)\n",
            "  Downloading isodate-0.6.1-py2.py3-none-any.whl (41 kB)\n",
            "\u001b[2K     \u001b[90m━━━━━━━━━━━━━━━━━━━━━━━━━━━━━━━━━━━━━━━━\u001b[0m \u001b[32m41.7/41.7 kB\u001b[0m \u001b[31m5.1 MB/s\u001b[0m eta \u001b[36m0:00:00\u001b[0m\n",
            "\u001b[?25hRequirement already satisfied: pyparsing<4,>=2.1.0 in /usr/local/lib/python3.10/dist-packages (from rdflib) (3.1.1)\n",
            "Requirement already satisfied: six in /usr/local/lib/python3.10/dist-packages (from isodate<0.7.0,>=0.6.0->rdflib) (1.16.0)\n",
            "Installing collected packages: isodate, rdflib\n",
            "Successfully installed isodate-0.6.1 rdflib-7.0.0\n"
          ]
        }
      ],
      "source": [
        "!pip install rdflib"
      ]
    },
    {
      "cell_type": "code",
      "source": [
        "import rdflib\n",
        "g = rdflib.Graph()\n",
        "g.parse('https://dbpedia.org/resource/Berlin')"
      ],
      "metadata": {
        "colab": {
          "base_uri": "https://localhost:8080/"
        },
        "id": "Lsyb778PfVJj",
        "outputId": "d7a77312-69e1-4759-bbdf-6df1df19c1d9"
      },
      "execution_count": 4,
      "outputs": [
        {
          "output_type": "execute_result",
          "data": {
            "text/plain": [
              "<Graph identifier=N1ce6cdc1dea349f5944639bc7a8f4d0e (<class 'rdflib.graph.Graph'>)>"
            ]
          },
          "metadata": {},
          "execution_count": 4
        }
      ]
    },
    {
      "cell_type": "code",
      "source": [
        "for s,p,o in g:\n",
        "  print(s,p,o)\n",
        "  break"
      ],
      "metadata": {
        "colab": {
          "base_uri": "https://localhost:8080/"
        },
        "id": "-XK0LUnzfVGr",
        "outputId": "016dd9bf-e818-4ebc-fdce-77c0473c4bf0"
      },
      "execution_count": 5,
      "outputs": [
        {
          "output_type": "stream",
          "name": "stdout",
          "text": [
            "http://dbpedia.org/resource/Berlin http://dbpedia.org/property/width 215\n"
          ]
        }
      ]
    },
    {
      "cell_type": "code",
      "source": [
        "print(len(g))"
      ],
      "metadata": {
        "colab": {
          "base_uri": "https://localhost:8080/"
        },
        "id": "a0BqjPMCfVDz",
        "outputId": "64accab6-e18e-4d91-934d-194c1bb2ad99"
      },
      "execution_count": 6,
      "outputs": [
        {
          "output_type": "stream",
          "name": "stdout",
          "text": [
            "2005\n"
          ]
        }
      ]
    },
    {
      "cell_type": "markdown",
      "source": [
        "Checking if the triple exists"
      ],
      "metadata": {
        "id": "GFgf8HKIh3YF"
      }
    },
    {
      "cell_type": "code",
      "source": [
        "from rdflib import URIRef\n",
        "if (s,p,o) in g:\n",
        "  print(f'Triple is here!')\n",
        "else:\n",
        "  print(f'Not triple here!')"
      ],
      "metadata": {
        "colab": {
          "base_uri": "https://localhost:8080/"
        },
        "id": "aND0ujwnfVBC",
        "outputId": "b9e3025f-e143-4038-b2c5-de5a11b76a54"
      },
      "execution_count": 7,
      "outputs": [
        {
          "output_type": "stream",
          "name": "stdout",
          "text": [
            "Triple is here!\n"
          ]
        }
      ]
    },
    {
      "cell_type": "code",
      "source": [
        "from rdflib import URIRef\n",
        "if (URIRef('https://dbpedia.org/resource/Berlin'),None,None) in g:\n",
        "  print(f'Triple is here!')\n",
        "else:\n",
        "  print(f'Not triple here!')"
      ],
      "metadata": {
        "colab": {
          "base_uri": "https://localhost:8080/"
        },
        "id": "IOCvlugwi0YM",
        "outputId": "3820f873-3389-490f-d3bd-95e46e7092bb"
      },
      "execution_count": 8,
      "outputs": [
        {
          "output_type": "stream",
          "name": "stdout",
          "text": [
            "Not triple here!\n"
          ]
        }
      ]
    },
    {
      "cell_type": "markdown",
      "source": [
        "Set of properties"
      ],
      "metadata": {
        "id": "ky6FFS17ihT7"
      }
    },
    {
      "cell_type": "code",
      "source": [
        "from rdflib.namespace import RDF, RDFS, OWL, FOAF\n",
        "properties1 = set()\n",
        "for s,p,o in g:\n",
        "  properties1.add(p)\n",
        "\n",
        "from pprint import pprint\n",
        "pprint(properties1)"
      ],
      "metadata": {
        "colab": {
          "base_uri": "https://localhost:8080/"
        },
        "id": "ItDpK0s-fUum",
        "outputId": "9873db06-5e51-4cea-846d-3ad2a8e994c5"
      },
      "execution_count": 9,
      "outputs": [
        {
          "output_type": "stream",
          "name": "stdout",
          "text": [
            "{rdflib.term.URIRef('http://dbpedia.org/ontology/PopulatedPlace/areaMetro'),\n",
            " rdflib.term.URIRef('http://dbpedia.org/ontology/PopulatedPlace/areaTotal'),\n",
            " rdflib.term.URIRef('http://dbpedia.org/ontology/PopulatedPlace/areaUrban'),\n",
            " rdflib.term.URIRef('http://dbpedia.org/ontology/PopulatedPlace/populationDensity'),\n",
            " rdflib.term.URIRef('http://dbpedia.org/ontology/PopulatedPlace/populationMetroDensity'),\n",
            " rdflib.term.URIRef('http://dbpedia.org/ontology/PopulatedPlace/populationUrbanDensity'),\n",
            " rdflib.term.URIRef('http://dbpedia.org/ontology/abstract'),\n",
            " rdflib.term.URIRef('http://dbpedia.org/ontology/areaCode'),\n",
            " rdflib.term.URIRef('http://dbpedia.org/ontology/areaMetro'),\n",
            " rdflib.term.URIRef('http://dbpedia.org/ontology/areaTotal'),\n",
            " rdflib.term.URIRef('http://dbpedia.org/ontology/areaUrban'),\n",
            " rdflib.term.URIRef('http://dbpedia.org/ontology/country'),\n",
            " rdflib.term.URIRef('http://dbpedia.org/ontology/elevation'),\n",
            " rdflib.term.URIRef('http://dbpedia.org/ontology/governingBody'),\n",
            " rdflib.term.URIRef('http://dbpedia.org/ontology/isoCodeRegion'),\n",
            " rdflib.term.URIRef('http://dbpedia.org/ontology/politicalLeader'),\n",
            " rdflib.term.URIRef('http://dbpedia.org/ontology/populationDensity'),\n",
            " rdflib.term.URIRef('http://dbpedia.org/ontology/populationMetro'),\n",
            " rdflib.term.URIRef('http://dbpedia.org/ontology/populationMetroDensity'),\n",
            " rdflib.term.URIRef('http://dbpedia.org/ontology/populationTotal'),\n",
            " rdflib.term.URIRef('http://dbpedia.org/ontology/populationUrban'),\n",
            " rdflib.term.URIRef('http://dbpedia.org/ontology/populationUrbanDensity'),\n",
            " rdflib.term.URIRef('http://dbpedia.org/ontology/subdivision'),\n",
            " rdflib.term.URIRef('http://dbpedia.org/ontology/thumbnail'),\n",
            " rdflib.term.URIRef('http://dbpedia.org/ontology/timeZone'),\n",
            " rdflib.term.URIRef('http://dbpedia.org/ontology/type'),\n",
            " rdflib.term.URIRef('http://dbpedia.org/ontology/utcOffset'),\n",
            " rdflib.term.URIRef('http://dbpedia.org/ontology/wikiPageExternalLink'),\n",
            " rdflib.term.URIRef('http://dbpedia.org/ontology/wikiPageID'),\n",
            " rdflib.term.URIRef('http://dbpedia.org/ontology/wikiPageLength'),\n",
            " rdflib.term.URIRef('http://dbpedia.org/ontology/wikiPageRevisionID'),\n",
            " rdflib.term.URIRef('http://dbpedia.org/ontology/wikiPageWikiLink'),\n",
            " rdflib.term.URIRef('http://dbpedia.org/property/align'),\n",
            " rdflib.term.URIRef('http://dbpedia.org/property/aprAvgRecordHighC'),\n",
            " rdflib.term.URIRef('http://dbpedia.org/property/aprAvgRecordLowC'),\n",
            " rdflib.term.URIRef('http://dbpedia.org/property/aprHighC'),\n",
            " rdflib.term.URIRef('http://dbpedia.org/property/aprLowC'),\n",
            " rdflib.term.URIRef('http://dbpedia.org/property/aprMeanC'),\n",
            " rdflib.term.URIRef('http://dbpedia.org/property/aprPrecipitationDays'),\n",
            " rdflib.term.URIRef('http://dbpedia.org/property/aprPrecipitationMm'),\n",
            " rdflib.term.URIRef('http://dbpedia.org/property/aprRecordHighC'),\n",
            " rdflib.term.URIRef('http://dbpedia.org/property/aprRecordLowC'),\n",
            " rdflib.term.URIRef('http://dbpedia.org/property/aprSun'),\n",
            " rdflib.term.URIRef('http://dbpedia.org/property/aprUv'),\n",
            " rdflib.term.URIRef('http://dbpedia.org/property/areaCode'),\n",
            " rdflib.term.URIRef('http://dbpedia.org/property/areaMetroKm'),\n",
            " rdflib.term.URIRef('http://dbpedia.org/property/areaTotalKm'),\n",
            " rdflib.term.URIRef('http://dbpedia.org/property/areaUrbanKm'),\n",
            " rdflib.term.URIRef('http://dbpedia.org/property/augAvgRecordHighC'),\n",
            " rdflib.term.URIRef('http://dbpedia.org/property/augAvgRecordLowC'),\n",
            " rdflib.term.URIRef('http://dbpedia.org/property/augHighC'),\n",
            " rdflib.term.URIRef('http://dbpedia.org/property/augLowC'),\n",
            " rdflib.term.URIRef('http://dbpedia.org/property/augMeanC'),\n",
            " rdflib.term.URIRef('http://dbpedia.org/property/augPrecipitationDays'),\n",
            " rdflib.term.URIRef('http://dbpedia.org/property/augPrecipitationMm'),\n",
            " rdflib.term.URIRef('http://dbpedia.org/property/augRecordHighC'),\n",
            " rdflib.term.URIRef('http://dbpedia.org/property/augRecordLowC'),\n",
            " rdflib.term.URIRef('http://dbpedia.org/property/augSun'),\n",
            " rdflib.term.URIRef('http://dbpedia.org/property/augUv'),\n",
            " rdflib.term.URIRef('http://dbpedia.org/property/blank1InfoSec'),\n",
            " rdflib.term.URIRef('http://dbpedia.org/property/blank1NameSec'),\n",
            " rdflib.term.URIRef('http://dbpedia.org/property/blank2InfoSec'),\n",
            " rdflib.term.URIRef('http://dbpedia.org/property/blank2NameSec'),\n",
            " rdflib.term.URIRef('http://dbpedia.org/property/blankInfoSec'),\n",
            " rdflib.term.URIRef('http://dbpedia.org/property/blankNameSec'),\n",
            " rdflib.term.URIRef('http://dbpedia.org/property/caption'),\n",
            " rdflib.term.URIRef('http://dbpedia.org/property/captionAlign'),\n",
            " rdflib.term.URIRef('http://dbpedia.org/property/collapsed'),\n",
            " rdflib.term.URIRef('http://dbpedia.org/property/date'),\n",
            " rdflib.term.URIRef('http://dbpedia.org/property/decAvgRecordHighC'),\n",
            " rdflib.term.URIRef('http://dbpedia.org/property/decAvgRecordLowC'),\n",
            " rdflib.term.URIRef('http://dbpedia.org/property/decHighC'),\n",
            " rdflib.term.URIRef('http://dbpedia.org/property/decLowC'),\n",
            " rdflib.term.URIRef('http://dbpedia.org/property/decMeanC'),\n",
            " rdflib.term.URIRef('http://dbpedia.org/property/decPrecipitationDays'),\n",
            " rdflib.term.URIRef('http://dbpedia.org/property/decPrecipitationMm'),\n",
            " rdflib.term.URIRef('http://dbpedia.org/property/decRecordHighC'),\n",
            " rdflib.term.URIRef('http://dbpedia.org/property/decRecordLowC'),\n",
            " rdflib.term.URIRef('http://dbpedia.org/property/decSun'),\n",
            " rdflib.term.URIRef('http://dbpedia.org/property/decUv'),\n",
            " rdflib.term.URIRef('http://dbpedia.org/property/elevationM'),\n",
            " rdflib.term.URIRef('http://dbpedia.org/property/febAvgRecordHighC'),\n",
            " rdflib.term.URIRef('http://dbpedia.org/property/febAvgRecordLowC'),\n",
            " rdflib.term.URIRef('http://dbpedia.org/property/febHighC'),\n",
            " rdflib.term.URIRef('http://dbpedia.org/property/febLowC'),\n",
            " rdflib.term.URIRef('http://dbpedia.org/property/febMeanC'),\n",
            " rdflib.term.URIRef('http://dbpedia.org/property/febPrecipitationDays'),\n",
            " rdflib.term.URIRef('http://dbpedia.org/property/febPrecipitationMm'),\n",
            " rdflib.term.URIRef('http://dbpedia.org/property/febRecordHighC'),\n",
            " rdflib.term.URIRef('http://dbpedia.org/property/febRecordLowC'),\n",
            " rdflib.term.URIRef('http://dbpedia.org/property/febSun'),\n",
            " rdflib.term.URIRef('http://dbpedia.org/property/febUv'),\n",
            " rdflib.term.URIRef('http://dbpedia.org/property/footer'),\n",
            " rdflib.term.URIRef('http://dbpedia.org/property/footerAlign'),\n",
            " rdflib.term.URIRef('http://dbpedia.org/property/geocode'),\n",
            " rdflib.term.URIRef('http://dbpedia.org/property/governingBody'),\n",
            " rdflib.term.URIRef('http://dbpedia.org/property/height'),\n",
            " rdflib.term.URIRef('http://dbpedia.org/property/image'),\n",
            " rdflib.term.URIRef('http://dbpedia.org/property/imageFlag'),\n",
            " rdflib.term.URIRef('http://dbpedia.org/property/imageShield'),\n",
            " rdflib.term.URIRef('http://dbpedia.org/property/isoCode'),\n",
            " rdflib.term.URIRef('http://dbpedia.org/property/janAvgRecordHighC'),\n",
            " rdflib.term.URIRef('http://dbpedia.org/property/janAvgRecordLowC'),\n",
            " rdflib.term.URIRef('http://dbpedia.org/property/janHighC'),\n",
            " rdflib.term.URIRef('http://dbpedia.org/property/janLowC'),\n",
            " rdflib.term.URIRef('http://dbpedia.org/property/janMeanC'),\n",
            " rdflib.term.URIRef('http://dbpedia.org/property/janPrecipitationDays'),\n",
            " rdflib.term.URIRef('http://dbpedia.org/property/janPrecipitationMm'),\n",
            " rdflib.term.URIRef('http://dbpedia.org/property/janRecordHighC'),\n",
            " rdflib.term.URIRef('http://dbpedia.org/property/janRecordLowC'),\n",
            " rdflib.term.URIRef('http://dbpedia.org/property/janSun'),\n",
            " rdflib.term.URIRef('http://dbpedia.org/property/janUv'),\n",
            " rdflib.term.URIRef('http://dbpedia.org/property/julAvgRecordHighC'),\n",
            " rdflib.term.URIRef('http://dbpedia.org/property/julAvgRecordLowC'),\n",
            " rdflib.term.URIRef('http://dbpedia.org/property/julHighC'),\n",
            " rdflib.term.URIRef('http://dbpedia.org/property/julLowC'),\n",
            " rdflib.term.URIRef('http://dbpedia.org/property/julMeanC'),\n",
            " rdflib.term.URIRef('http://dbpedia.org/property/julPrecipitationDays'),\n",
            " rdflib.term.URIRef('http://dbpedia.org/property/julPrecipitationMm'),\n",
            " rdflib.term.URIRef('http://dbpedia.org/property/julRecordHighC'),\n",
            " rdflib.term.URIRef('http://dbpedia.org/property/julRecordLowC'),\n",
            " rdflib.term.URIRef('http://dbpedia.org/property/julSun'),\n",
            " rdflib.term.URIRef('http://dbpedia.org/property/julUv'),\n",
            " rdflib.term.URIRef('http://dbpedia.org/property/junAvgRecordHighC'),\n",
            " rdflib.term.URIRef('http://dbpedia.org/property/junAvgRecordLowC'),\n",
            " rdflib.term.URIRef('http://dbpedia.org/property/junHighC'),\n",
            " rdflib.term.URIRef('http://dbpedia.org/property/junLowC'),\n",
            " rdflib.term.URIRef('http://dbpedia.org/property/junMeanC'),\n",
            " rdflib.term.URIRef('http://dbpedia.org/property/junPrecipitationDays'),\n",
            " rdflib.term.URIRef('http://dbpedia.org/property/junPrecipitationMm'),\n",
            " rdflib.term.URIRef('http://dbpedia.org/property/junRecordHighC'),\n",
            " rdflib.term.URIRef('http://dbpedia.org/property/junRecordLowC'),\n",
            " rdflib.term.URIRef('http://dbpedia.org/property/junSun'),\n",
            " rdflib.term.URIRef('http://dbpedia.org/property/junUv'),\n",
            " rdflib.term.URIRef('http://dbpedia.org/property/leaderName'),\n",
            " rdflib.term.URIRef('http://dbpedia.org/property/leaderParty'),\n",
            " rdflib.term.URIRef('http://dbpedia.org/property/leaderTitle'),\n",
            " rdflib.term.URIRef('http://dbpedia.org/property/location'),\n",
            " rdflib.term.URIRef('http://dbpedia.org/property/marAvgRecordHighC'),\n",
            " rdflib.term.URIRef('http://dbpedia.org/property/marAvgRecordLowC'),\n",
            " rdflib.term.URIRef('http://dbpedia.org/property/marHighC'),\n",
            " rdflib.term.URIRef('http://dbpedia.org/property/marLowC'),\n",
            " rdflib.term.URIRef('http://dbpedia.org/property/marMeanC'),\n",
            " rdflib.term.URIRef('http://dbpedia.org/property/marPrecipitationDays'),\n",
            " rdflib.term.URIRef('http://dbpedia.org/property/marPrecipitationMm'),\n",
            " rdflib.term.URIRef('http://dbpedia.org/property/marRecordHighC'),\n",
            " rdflib.term.URIRef('http://dbpedia.org/property/marRecordLowC'),\n",
            " rdflib.term.URIRef('http://dbpedia.org/property/marSun'),\n",
            " rdflib.term.URIRef('http://dbpedia.org/property/marUv'),\n",
            " rdflib.term.URIRef('http://dbpedia.org/property/mayAvgRecordHighC'),\n",
            " rdflib.term.URIRef('http://dbpedia.org/property/mayAvgRecordLowC'),\n",
            " rdflib.term.URIRef('http://dbpedia.org/property/mayHighC'),\n",
            " rdflib.term.URIRef('http://dbpedia.org/property/mayLowC'),\n",
            " rdflib.term.URIRef('http://dbpedia.org/property/mayMeanC'),\n",
            " rdflib.term.URIRef('http://dbpedia.org/property/mayPrecipitationDays'),\n",
            " rdflib.term.URIRef('http://dbpedia.org/property/mayPrecipitationMm'),\n",
            " rdflib.term.URIRef('http://dbpedia.org/property/mayRecordHighC'),\n",
            " rdflib.term.URIRef('http://dbpedia.org/property/mayRecordLowC'),\n",
            " rdflib.term.URIRef('http://dbpedia.org/property/maySun'),\n",
            " rdflib.term.URIRef('http://dbpedia.org/property/mayUv'),\n",
            " rdflib.term.URIRef('http://dbpedia.org/property/metricFirst'),\n",
            " rdflib.term.URIRef('http://dbpedia.org/property/name'),\n",
            " rdflib.term.URIRef('http://dbpedia.org/property/novAvgRecordHighC'),\n",
            " rdflib.term.URIRef('http://dbpedia.org/property/novAvgRecordLowC'),\n",
            " rdflib.term.URIRef('http://dbpedia.org/property/novHighC'),\n",
            " rdflib.term.URIRef('http://dbpedia.org/property/novLowC'),\n",
            " rdflib.term.URIRef('http://dbpedia.org/property/novMeanC'),\n",
            " rdflib.term.URIRef('http://dbpedia.org/property/novPrecipitationDays'),\n",
            " rdflib.term.URIRef('http://dbpedia.org/property/novPrecipitationMm'),\n",
            " rdflib.term.URIRef('http://dbpedia.org/property/novRecordHighC'),\n",
            " rdflib.term.URIRef('http://dbpedia.org/property/novRecordLowC'),\n",
            " rdflib.term.URIRef('http://dbpedia.org/property/novSun'),\n",
            " rdflib.term.URIRef('http://dbpedia.org/property/novUv'),\n",
            " rdflib.term.URIRef('http://dbpedia.org/property/octAvgRecordHighC'),\n",
            " rdflib.term.URIRef('http://dbpedia.org/property/octAvgRecordLowC'),\n",
            " rdflib.term.URIRef('http://dbpedia.org/property/octHighC'),\n",
            " rdflib.term.URIRef('http://dbpedia.org/property/octLowC'),\n",
            " rdflib.term.URIRef('http://dbpedia.org/property/octMeanC'),\n",
            " rdflib.term.URIRef('http://dbpedia.org/property/octPrecipitationDays'),\n",
            " rdflib.term.URIRef('http://dbpedia.org/property/octPrecipitationMm'),\n",
            " rdflib.term.URIRef('http://dbpedia.org/property/octRecordHighC'),\n",
            " rdflib.term.URIRef('http://dbpedia.org/property/octRecordLowC'),\n",
            " rdflib.term.URIRef('http://dbpedia.org/property/octSun'),\n",
            " rdflib.term.URIRef('http://dbpedia.org/property/octUv'),\n",
            " rdflib.term.URIRef('http://dbpedia.org/property/officialName'),\n",
            " rdflib.term.URIRef('http://dbpedia.org/property/perrow'),\n",
            " rdflib.term.URIRef('http://dbpedia.org/property/populationAsOf'),\n",
            " rdflib.term.URIRef('http://dbpedia.org/property/populationDemonyms'),\n",
            " rdflib.term.URIRef('http://dbpedia.org/property/populationDensityKm'),\n",
            " rdflib.term.URIRef('http://dbpedia.org/property/populationDensityMetroKm'),\n",
            " rdflib.term.URIRef('http://dbpedia.org/property/populationDensityUrbanKm'),\n",
            " rdflib.term.URIRef('http://dbpedia.org/property/populationMetro'),\n",
            " rdflib.term.URIRef('http://dbpedia.org/property/populationTotal'),\n",
            " rdflib.term.URIRef('http://dbpedia.org/property/populationUrban'),\n",
            " rdflib.term.URIRef('http://dbpedia.org/property/precipitationColour'),\n",
            " rdflib.term.URIRef('http://dbpedia.org/property/pushpinMap'),\n",
            " rdflib.term.URIRef('http://dbpedia.org/property/pushpinMapCaption'),\n",
            " rdflib.term.URIRef('http://dbpedia.org/property/pushpinRelief'),\n",
            " rdflib.term.URIRef('http://dbpedia.org/property/registrationPlate'),\n",
            " rdflib.term.URIRef('http://dbpedia.org/property/sepAvgRecordHighC'),\n",
            " rdflib.term.URIRef('http://dbpedia.org/property/sepAvgRecordLowC'),\n",
            " rdflib.term.URIRef('http://dbpedia.org/property/sepHighC'),\n",
            " rdflib.term.URIRef('http://dbpedia.org/property/sepLowC'),\n",
            " rdflib.term.URIRef('http://dbpedia.org/property/sepMeanC'),\n",
            " rdflib.term.URIRef('http://dbpedia.org/property/sepPrecipitationDays'),\n",
            " rdflib.term.URIRef('http://dbpedia.org/property/sepPrecipitationMm'),\n",
            " rdflib.term.URIRef('http://dbpedia.org/property/sepRecordHighC'),\n",
            " rdflib.term.URIRef('http://dbpedia.org/property/sepRecordLowC'),\n",
            " rdflib.term.URIRef('http://dbpedia.org/property/sepSun'),\n",
            " rdflib.term.URIRef('http://dbpedia.org/property/sepUv'),\n",
            " rdflib.term.URIRef('http://dbpedia.org/property/settlementType'),\n",
            " rdflib.term.URIRef('http://dbpedia.org/property/shieldSize'),\n",
            " rdflib.term.URIRef('http://dbpedia.org/property/singleLine'),\n",
            " rdflib.term.URIRef('http://dbpedia.org/property/source'),\n",
            " rdflib.term.URIRef('http://dbpedia.org/property/subdivisionName'),\n",
            " rdflib.term.URIRef('http://dbpedia.org/property/subdivisionType'),\n",
            " rdflib.term.URIRef('http://dbpedia.org/property/timezone'),\n",
            " rdflib.term.URIRef('http://dbpedia.org/property/timezone1Dst'),\n",
            " rdflib.term.URIRef('http://dbpedia.org/property/totalType'),\n",
            " rdflib.term.URIRef('http://dbpedia.org/property/totalWidth'),\n",
            " rdflib.term.URIRef('http://dbpedia.org/property/unitPrecipitationDays'),\n",
            " rdflib.term.URIRef('http://dbpedia.org/property/utcOffset'),\n",
            " rdflib.term.URIRef('http://dbpedia.org/property/utcOffset1Dst'),\n",
            " rdflib.term.URIRef('http://dbpedia.org/property/width'),\n",
            " rdflib.term.URIRef('http://dbpedia.org/property/wikiPageUsesTemplate'),\n",
            " rdflib.term.URIRef('http://dbpedia.org/property/yearAvgRecordHighC'),\n",
            " rdflib.term.URIRef('http://dbpedia.org/property/yearAvgRecordLowC'),\n",
            " rdflib.term.URIRef('http://dbpedia.org/property/yearHighC'),\n",
            " rdflib.term.URIRef('http://dbpedia.org/property/yearLowC'),\n",
            " rdflib.term.URIRef('http://dbpedia.org/property/yearMeanC'),\n",
            " rdflib.term.URIRef('http://dbpedia.org/property/yearPrecipitationMm'),\n",
            " rdflib.term.URIRef('http://dbpedia.org/property/yearRecordHighC'),\n",
            " rdflib.term.URIRef('http://dbpedia.org/property/yearRecordLowC'),\n",
            " rdflib.term.URIRef('http://dbpedia.org/property/yearSun'),\n",
            " rdflib.term.URIRef('http://purl.org/dc/terms/isPartOf'),\n",
            " rdflib.term.URIRef('http://purl.org/dc/terms/subject'),\n",
            " rdflib.term.URIRef('http://purl.org/linguistics/gold/hypernym'),\n",
            " rdflib.term.URIRef('http://schema.org/sameAs'),\n",
            " rdflib.term.URIRef('http://www.georss.org/georss/point'),\n",
            " rdflib.term.URIRef('http://www.w3.org/1999/02/22-rdf-syntax-ns#type'),\n",
            " rdflib.term.URIRef('http://www.w3.org/2000/01/rdf-schema#comment'),\n",
            " rdflib.term.URIRef('http://www.w3.org/2000/01/rdf-schema#label'),\n",
            " rdflib.term.URIRef('http://www.w3.org/2000/01/rdf-schema#seeAlso'),\n",
            " rdflib.term.URIRef('http://www.w3.org/2002/07/owl#sameAs'),\n",
            " rdflib.term.URIRef('http://www.w3.org/2003/01/geo/wgs84_pos#geometry'),\n",
            " rdflib.term.URIRef('http://www.w3.org/2003/01/geo/wgs84_pos#lat'),\n",
            " rdflib.term.URIRef('http://www.w3.org/2003/01/geo/wgs84_pos#long'),\n",
            " rdflib.term.URIRef('http://www.w3.org/2004/02/skos/core#exactMatch'),\n",
            " rdflib.term.URIRef('http://www.w3.org/ns/prov#wasDerivedFrom'),\n",
            " rdflib.term.URIRef('http://xmlns.com/foaf/0.1/depiction'),\n",
            " rdflib.term.URIRef('http://xmlns.com/foaf/0.1/homepage'),\n",
            " rdflib.term.URIRef('http://xmlns.com/foaf/0.1/isPrimaryTopicOf'),\n",
            " rdflib.term.URIRef('http://xmlns.com/foaf/0.1/name')}\n"
          ]
        }
      ]
    },
    {
      "cell_type": "code",
      "source": [
        "len(properties1)"
      ],
      "metadata": {
        "colab": {
          "base_uri": "https://localhost:8080/"
        },
        "id": "8TSqh_x1fUrn",
        "outputId": "d2b6939b-c9d1-4130-ed6f-6077988c103d"
      },
      "execution_count": 10,
      "outputs": [
        {
          "output_type": "execute_result",
          "data": {
            "text/plain": [
              "253"
            ]
          },
          "metadata": {},
          "execution_count": 10
        }
      ]
    },
    {
      "cell_type": "code",
      "source": [
        "properties2 = set()\n",
        "for p in g.predicates():\n",
        "  properties2.add(p)\n",
        "\n",
        "pprint(properties2)"
      ],
      "metadata": {
        "colab": {
          "base_uri": "https://localhost:8080/"
        },
        "id": "r1QUv7cNfUow",
        "outputId": "8721583f-2489-4644-fdbc-225cfebaae0f"
      },
      "execution_count": 11,
      "outputs": [
        {
          "output_type": "stream",
          "name": "stdout",
          "text": [
            "{rdflib.term.URIRef('http://dbpedia.org/ontology/PopulatedPlace/areaMetro'),\n",
            " rdflib.term.URIRef('http://dbpedia.org/ontology/PopulatedPlace/areaTotal'),\n",
            " rdflib.term.URIRef('http://dbpedia.org/ontology/PopulatedPlace/areaUrban'),\n",
            " rdflib.term.URIRef('http://dbpedia.org/ontology/PopulatedPlace/populationDensity'),\n",
            " rdflib.term.URIRef('http://dbpedia.org/ontology/PopulatedPlace/populationMetroDensity'),\n",
            " rdflib.term.URIRef('http://dbpedia.org/ontology/PopulatedPlace/populationUrbanDensity'),\n",
            " rdflib.term.URIRef('http://dbpedia.org/ontology/abstract'),\n",
            " rdflib.term.URIRef('http://dbpedia.org/ontology/areaCode'),\n",
            " rdflib.term.URIRef('http://dbpedia.org/ontology/areaMetro'),\n",
            " rdflib.term.URIRef('http://dbpedia.org/ontology/areaTotal'),\n",
            " rdflib.term.URIRef('http://dbpedia.org/ontology/areaUrban'),\n",
            " rdflib.term.URIRef('http://dbpedia.org/ontology/country'),\n",
            " rdflib.term.URIRef('http://dbpedia.org/ontology/elevation'),\n",
            " rdflib.term.URIRef('http://dbpedia.org/ontology/governingBody'),\n",
            " rdflib.term.URIRef('http://dbpedia.org/ontology/isoCodeRegion'),\n",
            " rdflib.term.URIRef('http://dbpedia.org/ontology/politicalLeader'),\n",
            " rdflib.term.URIRef('http://dbpedia.org/ontology/populationDensity'),\n",
            " rdflib.term.URIRef('http://dbpedia.org/ontology/populationMetro'),\n",
            " rdflib.term.URIRef('http://dbpedia.org/ontology/populationMetroDensity'),\n",
            " rdflib.term.URIRef('http://dbpedia.org/ontology/populationTotal'),\n",
            " rdflib.term.URIRef('http://dbpedia.org/ontology/populationUrban'),\n",
            " rdflib.term.URIRef('http://dbpedia.org/ontology/populationUrbanDensity'),\n",
            " rdflib.term.URIRef('http://dbpedia.org/ontology/subdivision'),\n",
            " rdflib.term.URIRef('http://dbpedia.org/ontology/thumbnail'),\n",
            " rdflib.term.URIRef('http://dbpedia.org/ontology/timeZone'),\n",
            " rdflib.term.URIRef('http://dbpedia.org/ontology/type'),\n",
            " rdflib.term.URIRef('http://dbpedia.org/ontology/utcOffset'),\n",
            " rdflib.term.URIRef('http://dbpedia.org/ontology/wikiPageExternalLink'),\n",
            " rdflib.term.URIRef('http://dbpedia.org/ontology/wikiPageID'),\n",
            " rdflib.term.URIRef('http://dbpedia.org/ontology/wikiPageLength'),\n",
            " rdflib.term.URIRef('http://dbpedia.org/ontology/wikiPageRevisionID'),\n",
            " rdflib.term.URIRef('http://dbpedia.org/ontology/wikiPageWikiLink'),\n",
            " rdflib.term.URIRef('http://dbpedia.org/property/align'),\n",
            " rdflib.term.URIRef('http://dbpedia.org/property/aprAvgRecordHighC'),\n",
            " rdflib.term.URIRef('http://dbpedia.org/property/aprAvgRecordLowC'),\n",
            " rdflib.term.URIRef('http://dbpedia.org/property/aprHighC'),\n",
            " rdflib.term.URIRef('http://dbpedia.org/property/aprLowC'),\n",
            " rdflib.term.URIRef('http://dbpedia.org/property/aprMeanC'),\n",
            " rdflib.term.URIRef('http://dbpedia.org/property/aprPrecipitationDays'),\n",
            " rdflib.term.URIRef('http://dbpedia.org/property/aprPrecipitationMm'),\n",
            " rdflib.term.URIRef('http://dbpedia.org/property/aprRecordHighC'),\n",
            " rdflib.term.URIRef('http://dbpedia.org/property/aprRecordLowC'),\n",
            " rdflib.term.URIRef('http://dbpedia.org/property/aprSun'),\n",
            " rdflib.term.URIRef('http://dbpedia.org/property/aprUv'),\n",
            " rdflib.term.URIRef('http://dbpedia.org/property/areaCode'),\n",
            " rdflib.term.URIRef('http://dbpedia.org/property/areaMetroKm'),\n",
            " rdflib.term.URIRef('http://dbpedia.org/property/areaTotalKm'),\n",
            " rdflib.term.URIRef('http://dbpedia.org/property/areaUrbanKm'),\n",
            " rdflib.term.URIRef('http://dbpedia.org/property/augAvgRecordHighC'),\n",
            " rdflib.term.URIRef('http://dbpedia.org/property/augAvgRecordLowC'),\n",
            " rdflib.term.URIRef('http://dbpedia.org/property/augHighC'),\n",
            " rdflib.term.URIRef('http://dbpedia.org/property/augLowC'),\n",
            " rdflib.term.URIRef('http://dbpedia.org/property/augMeanC'),\n",
            " rdflib.term.URIRef('http://dbpedia.org/property/augPrecipitationDays'),\n",
            " rdflib.term.URIRef('http://dbpedia.org/property/augPrecipitationMm'),\n",
            " rdflib.term.URIRef('http://dbpedia.org/property/augRecordHighC'),\n",
            " rdflib.term.URIRef('http://dbpedia.org/property/augRecordLowC'),\n",
            " rdflib.term.URIRef('http://dbpedia.org/property/augSun'),\n",
            " rdflib.term.URIRef('http://dbpedia.org/property/augUv'),\n",
            " rdflib.term.URIRef('http://dbpedia.org/property/blank1InfoSec'),\n",
            " rdflib.term.URIRef('http://dbpedia.org/property/blank1NameSec'),\n",
            " rdflib.term.URIRef('http://dbpedia.org/property/blank2InfoSec'),\n",
            " rdflib.term.URIRef('http://dbpedia.org/property/blank2NameSec'),\n",
            " rdflib.term.URIRef('http://dbpedia.org/property/blankInfoSec'),\n",
            " rdflib.term.URIRef('http://dbpedia.org/property/blankNameSec'),\n",
            " rdflib.term.URIRef('http://dbpedia.org/property/caption'),\n",
            " rdflib.term.URIRef('http://dbpedia.org/property/captionAlign'),\n",
            " rdflib.term.URIRef('http://dbpedia.org/property/collapsed'),\n",
            " rdflib.term.URIRef('http://dbpedia.org/property/date'),\n",
            " rdflib.term.URIRef('http://dbpedia.org/property/decAvgRecordHighC'),\n",
            " rdflib.term.URIRef('http://dbpedia.org/property/decAvgRecordLowC'),\n",
            " rdflib.term.URIRef('http://dbpedia.org/property/decHighC'),\n",
            " rdflib.term.URIRef('http://dbpedia.org/property/decLowC'),\n",
            " rdflib.term.URIRef('http://dbpedia.org/property/decMeanC'),\n",
            " rdflib.term.URIRef('http://dbpedia.org/property/decPrecipitationDays'),\n",
            " rdflib.term.URIRef('http://dbpedia.org/property/decPrecipitationMm'),\n",
            " rdflib.term.URIRef('http://dbpedia.org/property/decRecordHighC'),\n",
            " rdflib.term.URIRef('http://dbpedia.org/property/decRecordLowC'),\n",
            " rdflib.term.URIRef('http://dbpedia.org/property/decSun'),\n",
            " rdflib.term.URIRef('http://dbpedia.org/property/decUv'),\n",
            " rdflib.term.URIRef('http://dbpedia.org/property/elevationM'),\n",
            " rdflib.term.URIRef('http://dbpedia.org/property/febAvgRecordHighC'),\n",
            " rdflib.term.URIRef('http://dbpedia.org/property/febAvgRecordLowC'),\n",
            " rdflib.term.URIRef('http://dbpedia.org/property/febHighC'),\n",
            " rdflib.term.URIRef('http://dbpedia.org/property/febLowC'),\n",
            " rdflib.term.URIRef('http://dbpedia.org/property/febMeanC'),\n",
            " rdflib.term.URIRef('http://dbpedia.org/property/febPrecipitationDays'),\n",
            " rdflib.term.URIRef('http://dbpedia.org/property/febPrecipitationMm'),\n",
            " rdflib.term.URIRef('http://dbpedia.org/property/febRecordHighC'),\n",
            " rdflib.term.URIRef('http://dbpedia.org/property/febRecordLowC'),\n",
            " rdflib.term.URIRef('http://dbpedia.org/property/febSun'),\n",
            " rdflib.term.URIRef('http://dbpedia.org/property/febUv'),\n",
            " rdflib.term.URIRef('http://dbpedia.org/property/footer'),\n",
            " rdflib.term.URIRef('http://dbpedia.org/property/footerAlign'),\n",
            " rdflib.term.URIRef('http://dbpedia.org/property/geocode'),\n",
            " rdflib.term.URIRef('http://dbpedia.org/property/governingBody'),\n",
            " rdflib.term.URIRef('http://dbpedia.org/property/height'),\n",
            " rdflib.term.URIRef('http://dbpedia.org/property/image'),\n",
            " rdflib.term.URIRef('http://dbpedia.org/property/imageFlag'),\n",
            " rdflib.term.URIRef('http://dbpedia.org/property/imageShield'),\n",
            " rdflib.term.URIRef('http://dbpedia.org/property/isoCode'),\n",
            " rdflib.term.URIRef('http://dbpedia.org/property/janAvgRecordHighC'),\n",
            " rdflib.term.URIRef('http://dbpedia.org/property/janAvgRecordLowC'),\n",
            " rdflib.term.URIRef('http://dbpedia.org/property/janHighC'),\n",
            " rdflib.term.URIRef('http://dbpedia.org/property/janLowC'),\n",
            " rdflib.term.URIRef('http://dbpedia.org/property/janMeanC'),\n",
            " rdflib.term.URIRef('http://dbpedia.org/property/janPrecipitationDays'),\n",
            " rdflib.term.URIRef('http://dbpedia.org/property/janPrecipitationMm'),\n",
            " rdflib.term.URIRef('http://dbpedia.org/property/janRecordHighC'),\n",
            " rdflib.term.URIRef('http://dbpedia.org/property/janRecordLowC'),\n",
            " rdflib.term.URIRef('http://dbpedia.org/property/janSun'),\n",
            " rdflib.term.URIRef('http://dbpedia.org/property/janUv'),\n",
            " rdflib.term.URIRef('http://dbpedia.org/property/julAvgRecordHighC'),\n",
            " rdflib.term.URIRef('http://dbpedia.org/property/julAvgRecordLowC'),\n",
            " rdflib.term.URIRef('http://dbpedia.org/property/julHighC'),\n",
            " rdflib.term.URIRef('http://dbpedia.org/property/julLowC'),\n",
            " rdflib.term.URIRef('http://dbpedia.org/property/julMeanC'),\n",
            " rdflib.term.URIRef('http://dbpedia.org/property/julPrecipitationDays'),\n",
            " rdflib.term.URIRef('http://dbpedia.org/property/julPrecipitationMm'),\n",
            " rdflib.term.URIRef('http://dbpedia.org/property/julRecordHighC'),\n",
            " rdflib.term.URIRef('http://dbpedia.org/property/julRecordLowC'),\n",
            " rdflib.term.URIRef('http://dbpedia.org/property/julSun'),\n",
            " rdflib.term.URIRef('http://dbpedia.org/property/julUv'),\n",
            " rdflib.term.URIRef('http://dbpedia.org/property/junAvgRecordHighC'),\n",
            " rdflib.term.URIRef('http://dbpedia.org/property/junAvgRecordLowC'),\n",
            " rdflib.term.URIRef('http://dbpedia.org/property/junHighC'),\n",
            " rdflib.term.URIRef('http://dbpedia.org/property/junLowC'),\n",
            " rdflib.term.URIRef('http://dbpedia.org/property/junMeanC'),\n",
            " rdflib.term.URIRef('http://dbpedia.org/property/junPrecipitationDays'),\n",
            " rdflib.term.URIRef('http://dbpedia.org/property/junPrecipitationMm'),\n",
            " rdflib.term.URIRef('http://dbpedia.org/property/junRecordHighC'),\n",
            " rdflib.term.URIRef('http://dbpedia.org/property/junRecordLowC'),\n",
            " rdflib.term.URIRef('http://dbpedia.org/property/junSun'),\n",
            " rdflib.term.URIRef('http://dbpedia.org/property/junUv'),\n",
            " rdflib.term.URIRef('http://dbpedia.org/property/leaderName'),\n",
            " rdflib.term.URIRef('http://dbpedia.org/property/leaderParty'),\n",
            " rdflib.term.URIRef('http://dbpedia.org/property/leaderTitle'),\n",
            " rdflib.term.URIRef('http://dbpedia.org/property/location'),\n",
            " rdflib.term.URIRef('http://dbpedia.org/property/marAvgRecordHighC'),\n",
            " rdflib.term.URIRef('http://dbpedia.org/property/marAvgRecordLowC'),\n",
            " rdflib.term.URIRef('http://dbpedia.org/property/marHighC'),\n",
            " rdflib.term.URIRef('http://dbpedia.org/property/marLowC'),\n",
            " rdflib.term.URIRef('http://dbpedia.org/property/marMeanC'),\n",
            " rdflib.term.URIRef('http://dbpedia.org/property/marPrecipitationDays'),\n",
            " rdflib.term.URIRef('http://dbpedia.org/property/marPrecipitationMm'),\n",
            " rdflib.term.URIRef('http://dbpedia.org/property/marRecordHighC'),\n",
            " rdflib.term.URIRef('http://dbpedia.org/property/marRecordLowC'),\n",
            " rdflib.term.URIRef('http://dbpedia.org/property/marSun'),\n",
            " rdflib.term.URIRef('http://dbpedia.org/property/marUv'),\n",
            " rdflib.term.URIRef('http://dbpedia.org/property/mayAvgRecordHighC'),\n",
            " rdflib.term.URIRef('http://dbpedia.org/property/mayAvgRecordLowC'),\n",
            " rdflib.term.URIRef('http://dbpedia.org/property/mayHighC'),\n",
            " rdflib.term.URIRef('http://dbpedia.org/property/mayLowC'),\n",
            " rdflib.term.URIRef('http://dbpedia.org/property/mayMeanC'),\n",
            " rdflib.term.URIRef('http://dbpedia.org/property/mayPrecipitationDays'),\n",
            " rdflib.term.URIRef('http://dbpedia.org/property/mayPrecipitationMm'),\n",
            " rdflib.term.URIRef('http://dbpedia.org/property/mayRecordHighC'),\n",
            " rdflib.term.URIRef('http://dbpedia.org/property/mayRecordLowC'),\n",
            " rdflib.term.URIRef('http://dbpedia.org/property/maySun'),\n",
            " rdflib.term.URIRef('http://dbpedia.org/property/mayUv'),\n",
            " rdflib.term.URIRef('http://dbpedia.org/property/metricFirst'),\n",
            " rdflib.term.URIRef('http://dbpedia.org/property/name'),\n",
            " rdflib.term.URIRef('http://dbpedia.org/property/novAvgRecordHighC'),\n",
            " rdflib.term.URIRef('http://dbpedia.org/property/novAvgRecordLowC'),\n",
            " rdflib.term.URIRef('http://dbpedia.org/property/novHighC'),\n",
            " rdflib.term.URIRef('http://dbpedia.org/property/novLowC'),\n",
            " rdflib.term.URIRef('http://dbpedia.org/property/novMeanC'),\n",
            " rdflib.term.URIRef('http://dbpedia.org/property/novPrecipitationDays'),\n",
            " rdflib.term.URIRef('http://dbpedia.org/property/novPrecipitationMm'),\n",
            " rdflib.term.URIRef('http://dbpedia.org/property/novRecordHighC'),\n",
            " rdflib.term.URIRef('http://dbpedia.org/property/novRecordLowC'),\n",
            " rdflib.term.URIRef('http://dbpedia.org/property/novSun'),\n",
            " rdflib.term.URIRef('http://dbpedia.org/property/novUv'),\n",
            " rdflib.term.URIRef('http://dbpedia.org/property/octAvgRecordHighC'),\n",
            " rdflib.term.URIRef('http://dbpedia.org/property/octAvgRecordLowC'),\n",
            " rdflib.term.URIRef('http://dbpedia.org/property/octHighC'),\n",
            " rdflib.term.URIRef('http://dbpedia.org/property/octLowC'),\n",
            " rdflib.term.URIRef('http://dbpedia.org/property/octMeanC'),\n",
            " rdflib.term.URIRef('http://dbpedia.org/property/octPrecipitationDays'),\n",
            " rdflib.term.URIRef('http://dbpedia.org/property/octPrecipitationMm'),\n",
            " rdflib.term.URIRef('http://dbpedia.org/property/octRecordHighC'),\n",
            " rdflib.term.URIRef('http://dbpedia.org/property/octRecordLowC'),\n",
            " rdflib.term.URIRef('http://dbpedia.org/property/octSun'),\n",
            " rdflib.term.URIRef('http://dbpedia.org/property/octUv'),\n",
            " rdflib.term.URIRef('http://dbpedia.org/property/officialName'),\n",
            " rdflib.term.URIRef('http://dbpedia.org/property/perrow'),\n",
            " rdflib.term.URIRef('http://dbpedia.org/property/populationAsOf'),\n",
            " rdflib.term.URIRef('http://dbpedia.org/property/populationDemonyms'),\n",
            " rdflib.term.URIRef('http://dbpedia.org/property/populationDensityKm'),\n",
            " rdflib.term.URIRef('http://dbpedia.org/property/populationDensityMetroKm'),\n",
            " rdflib.term.URIRef('http://dbpedia.org/property/populationDensityUrbanKm'),\n",
            " rdflib.term.URIRef('http://dbpedia.org/property/populationMetro'),\n",
            " rdflib.term.URIRef('http://dbpedia.org/property/populationTotal'),\n",
            " rdflib.term.URIRef('http://dbpedia.org/property/populationUrban'),\n",
            " rdflib.term.URIRef('http://dbpedia.org/property/precipitationColour'),\n",
            " rdflib.term.URIRef('http://dbpedia.org/property/pushpinMap'),\n",
            " rdflib.term.URIRef('http://dbpedia.org/property/pushpinMapCaption'),\n",
            " rdflib.term.URIRef('http://dbpedia.org/property/pushpinRelief'),\n",
            " rdflib.term.URIRef('http://dbpedia.org/property/registrationPlate'),\n",
            " rdflib.term.URIRef('http://dbpedia.org/property/sepAvgRecordHighC'),\n",
            " rdflib.term.URIRef('http://dbpedia.org/property/sepAvgRecordLowC'),\n",
            " rdflib.term.URIRef('http://dbpedia.org/property/sepHighC'),\n",
            " rdflib.term.URIRef('http://dbpedia.org/property/sepLowC'),\n",
            " rdflib.term.URIRef('http://dbpedia.org/property/sepMeanC'),\n",
            " rdflib.term.URIRef('http://dbpedia.org/property/sepPrecipitationDays'),\n",
            " rdflib.term.URIRef('http://dbpedia.org/property/sepPrecipitationMm'),\n",
            " rdflib.term.URIRef('http://dbpedia.org/property/sepRecordHighC'),\n",
            " rdflib.term.URIRef('http://dbpedia.org/property/sepRecordLowC'),\n",
            " rdflib.term.URIRef('http://dbpedia.org/property/sepSun'),\n",
            " rdflib.term.URIRef('http://dbpedia.org/property/sepUv'),\n",
            " rdflib.term.URIRef('http://dbpedia.org/property/settlementType'),\n",
            " rdflib.term.URIRef('http://dbpedia.org/property/shieldSize'),\n",
            " rdflib.term.URIRef('http://dbpedia.org/property/singleLine'),\n",
            " rdflib.term.URIRef('http://dbpedia.org/property/source'),\n",
            " rdflib.term.URIRef('http://dbpedia.org/property/subdivisionName'),\n",
            " rdflib.term.URIRef('http://dbpedia.org/property/subdivisionType'),\n",
            " rdflib.term.URIRef('http://dbpedia.org/property/timezone'),\n",
            " rdflib.term.URIRef('http://dbpedia.org/property/timezone1Dst'),\n",
            " rdflib.term.URIRef('http://dbpedia.org/property/totalType'),\n",
            " rdflib.term.URIRef('http://dbpedia.org/property/totalWidth'),\n",
            " rdflib.term.URIRef('http://dbpedia.org/property/unitPrecipitationDays'),\n",
            " rdflib.term.URIRef('http://dbpedia.org/property/utcOffset'),\n",
            " rdflib.term.URIRef('http://dbpedia.org/property/utcOffset1Dst'),\n",
            " rdflib.term.URIRef('http://dbpedia.org/property/width'),\n",
            " rdflib.term.URIRef('http://dbpedia.org/property/wikiPageUsesTemplate'),\n",
            " rdflib.term.URIRef('http://dbpedia.org/property/yearAvgRecordHighC'),\n",
            " rdflib.term.URIRef('http://dbpedia.org/property/yearAvgRecordLowC'),\n",
            " rdflib.term.URIRef('http://dbpedia.org/property/yearHighC'),\n",
            " rdflib.term.URIRef('http://dbpedia.org/property/yearLowC'),\n",
            " rdflib.term.URIRef('http://dbpedia.org/property/yearMeanC'),\n",
            " rdflib.term.URIRef('http://dbpedia.org/property/yearPrecipitationMm'),\n",
            " rdflib.term.URIRef('http://dbpedia.org/property/yearRecordHighC'),\n",
            " rdflib.term.URIRef('http://dbpedia.org/property/yearRecordLowC'),\n",
            " rdflib.term.URIRef('http://dbpedia.org/property/yearSun'),\n",
            " rdflib.term.URIRef('http://purl.org/dc/terms/isPartOf'),\n",
            " rdflib.term.URIRef('http://purl.org/dc/terms/subject'),\n",
            " rdflib.term.URIRef('http://purl.org/linguistics/gold/hypernym'),\n",
            " rdflib.term.URIRef('http://schema.org/sameAs'),\n",
            " rdflib.term.URIRef('http://www.georss.org/georss/point'),\n",
            " rdflib.term.URIRef('http://www.w3.org/1999/02/22-rdf-syntax-ns#type'),\n",
            " rdflib.term.URIRef('http://www.w3.org/2000/01/rdf-schema#comment'),\n",
            " rdflib.term.URIRef('http://www.w3.org/2000/01/rdf-schema#label'),\n",
            " rdflib.term.URIRef('http://www.w3.org/2000/01/rdf-schema#seeAlso'),\n",
            " rdflib.term.URIRef('http://www.w3.org/2002/07/owl#sameAs'),\n",
            " rdflib.term.URIRef('http://www.w3.org/2003/01/geo/wgs84_pos#geometry'),\n",
            " rdflib.term.URIRef('http://www.w3.org/2003/01/geo/wgs84_pos#lat'),\n",
            " rdflib.term.URIRef('http://www.w3.org/2003/01/geo/wgs84_pos#long'),\n",
            " rdflib.term.URIRef('http://www.w3.org/2004/02/skos/core#exactMatch'),\n",
            " rdflib.term.URIRef('http://www.w3.org/ns/prov#wasDerivedFrom'),\n",
            " rdflib.term.URIRef('http://xmlns.com/foaf/0.1/depiction'),\n",
            " rdflib.term.URIRef('http://xmlns.com/foaf/0.1/homepage'),\n",
            " rdflib.term.URIRef('http://xmlns.com/foaf/0.1/isPrimaryTopicOf'),\n",
            " rdflib.term.URIRef('http://xmlns.com/foaf/0.1/name')}\n"
          ]
        }
      ]
    },
    {
      "cell_type": "code",
      "source": [
        "len(properties2)"
      ],
      "metadata": {
        "colab": {
          "base_uri": "https://localhost:8080/"
        },
        "id": "-zEs0tvCfUls",
        "outputId": "e9eac49e-ff24-4df3-bfb1-b6a934501d11"
      },
      "execution_count": 12,
      "outputs": [
        {
          "output_type": "execute_result",
          "data": {
            "text/plain": [
              "253"
            ]
          },
          "metadata": {},
          "execution_count": 12
        }
      ]
    },
    {
      "cell_type": "markdown",
      "source": [
        "Iteration over list of labels"
      ],
      "metadata": {
        "id": "vnnvYQl0mr8c"
      }
    },
    {
      "cell_type": "code",
      "source": [
        "for s, o in g.subject_objects(RDFS.label):\n",
        "  print(o)"
      ],
      "metadata": {
        "colab": {
          "base_uri": "https://localhost:8080/"
        },
        "id": "pyeOgHSwfUiu",
        "outputId": "63db9614-66a3-4ce5-b676-c0c90b48b042"
      },
      "execution_count": 13,
      "outputs": [
        {
          "output_type": "stream",
          "name": "stdout",
          "text": [
            "Östberlin\n",
            "Beirlín\n",
            "برلين الغربية\n",
            "برلين\n",
            "베를린\n",
            "Західний Берлін\n",
            "Берлін\n",
            "Ekialdeko Berlin\n",
            "서베를린\n",
            "West-Berlijn\n",
            "Västberlin\n",
            "Berlin Timur\n",
            "Okcidenta Berlino\n",
            "동베를린\n",
            "西ベルリン\n",
            "柏林\n",
            "Западный Берлин\n",
            "Západní Berlín\n",
            "Berlino Ovest\n",
            "Oost-Berlijn\n",
            "ベルリン\n",
            "西柏林\n",
            "Βερολίνο\n",
            "Východní Berlín\n",
            "Ανατολικό Βερολίνο\n",
            "Berlín Occidental\n",
            "Berlín Occidental\n",
            "Берлин\n",
            "Berlin\n",
            "Berlin\n",
            "Berlin\n",
            "Berlin\n",
            "Berlin\n",
            "Berlin\n",
            "Berlin\n",
            "Berlino\n",
            "Berlino\n",
            "Berlim Ocidental\n",
            "Berlín Este\n",
            "Mendebaldeko Berlin\n",
            "برلين الشرقية\n",
            "Berlin Zachodni\n",
            "Berlín\n",
            "Berlín\n",
            "Berlín\n",
            "Ost-Berlin\n",
            "Berlim Leste\n",
            "Δυτικό Βερολίνο\n",
            "Berlin (wschodni)\n",
            "Berlin Barat\n",
            "Східний Берлін\n",
            "东柏林\n",
            "Orienta Berlino\n",
            "東ベルリン\n",
            "Berlim\n",
            "Berlino Est\n",
            "Berlin-Est\n",
            "Berlin-Ouest\n",
            "Восточный Берлин\n",
            "Berlín Oriental\n",
            "West-Berlin\n"
          ]
        }
      ]
    },
    {
      "cell_type": "code",
      "source": [
        "for s, o in g.subject_objects(RDFS.label):\n",
        "  print(o.value, o.language, o.datatype)"
      ],
      "metadata": {
        "colab": {
          "base_uri": "https://localhost:8080/"
        },
        "id": "AQhWdbZbmwQV",
        "outputId": "d44d84c8-09af-4a9f-be4d-c930361c8476"
      },
      "execution_count": 14,
      "outputs": [
        {
          "output_type": "stream",
          "name": "stdout",
          "text": [
            "Östberlin sv None\n",
            "Beirlín ga None\n",
            "برلين الغربية ar None\n",
            "برلين ar None\n",
            "베를린 ko None\n",
            "Західний Берлін uk None\n",
            "Берлін uk None\n",
            "Ekialdeko Berlin eu None\n",
            "서베를린 ko None\n",
            "West-Berlijn nl None\n",
            "Västberlin sv None\n",
            "Berlin Timur in None\n",
            "Okcidenta Berlino eo None\n",
            "동베를린 ko None\n",
            "西ベルリン ja None\n",
            "柏林 zh None\n",
            "Западный Берлин ru None\n",
            "Západní Berlín cs None\n",
            "Berlino Ovest it None\n",
            "Oost-Berlijn nl None\n",
            "ベルリン ja None\n",
            "西柏林 zh None\n",
            "Βερολίνο el None\n",
            "Východní Berlín cs None\n",
            "Ανατολικό Βερολίνο el None\n",
            "Berlín Occidental ca None\n",
            "Berlín Occidental es None\n",
            "Берлин ru None\n",
            "Berlin in None\n",
            "Berlin fr None\n",
            "Berlin sv None\n",
            "Berlin pl None\n",
            "Berlin eu None\n",
            "Berlin de None\n",
            "Berlin en None\n",
            "Berlino eo None\n",
            "Berlino it None\n",
            "Berlim Ocidental pt None\n",
            "Berlín Este es None\n",
            "Mendebaldeko Berlin eu None\n",
            "برلين الشرقية ar None\n",
            "Berlin Zachodni pl None\n",
            "Berlín cs None\n",
            "Berlín ca None\n",
            "Berlín es None\n",
            "Ost-Berlin de None\n",
            "Berlim Leste pt None\n",
            "Δυτικό Βερολίνο el None\n",
            "Berlin (wschodni) pl None\n",
            "Berlin Barat in None\n",
            "Східний Берлін uk None\n",
            "东柏林 zh None\n",
            "Orienta Berlino eo None\n",
            "東ベルリン ja None\n",
            "Berlim pt None\n",
            "Berlino Est it None\n",
            "Berlin-Est fr None\n",
            "Berlin-Ouest fr None\n",
            "Восточный Берлин ru None\n",
            "Berlín Oriental ca None\n",
            "West-Berlin de None\n"
          ]
        }
      ]
    },
    {
      "cell_type": "code",
      "source": [
        "for s, o in g.subject_objects(OWL.sameAs):\n",
        "  print(o)"
      ],
      "metadata": {
        "colab": {
          "base_uri": "https://localhost:8080/"
        },
        "id": "84oppzysmwNH",
        "outputId": "edc8737a-e04f-4096-f90c-377bd4e740e2"
      },
      "execution_count": 15,
      "outputs": [
        {
          "output_type": "stream",
          "name": "stdout",
          "text": [
            "http://rdf.freebase.com/ns/m.0156q\n",
            "http://de.dbpedia.org/resource/West-Berlin\n",
            "http://linkedgeodata.org/triplify/node240109189\n",
            "http://viaf.org/viaf/141294625\n",
            "http://viaf.org/viaf/122530980\n",
            "http://api.nytimes.com/svc/semantic/v2/concept/name/nytd_geo/Berlin%20(Germany)\n",
            "http://viaf.org/viaf/142472483\n",
            "http://www4.wiwiss.fu-berlin.de/eurostat/resource/regions/Berlin\n",
            "http://d-nb.info/gnd/4087295-6\n",
            "http://linked-web-apis.fit.cvut.cz/resource/berlin_city\n",
            "http://sw.cyc.com/concept/Mx4rvVjrhpwpEbGdrcN5Y29ycA\n",
            "http://sws.geonames.org/2950159/\n",
            "http://yago-knowledge.org/resource/Berlin\n",
            "http://d-nb.info/gnd/4005728-8\n",
            "http://d-nb.info/gnd/4069304-1\n",
            "http://commons.dbpedia.org/resource/Berlin\n",
            "http://d-nb.info/gnd/2004264-4\n",
            "http://d-nb.info/gnd/2004272-3\n",
            "http://d-nb.info/gnd/35147-7\n",
            "http://d-nb.info/gnd/7761961-4\n",
            "http://musicbrainz.org/area/c9ac1239-e832-41bc-9930-e252a1fd1105\n",
            "http://viaf.org/viaf/132868396\n",
            "http://www.wikidata.org/entity/Q31910788\n",
            "http://www.wikidata.org/entity/Q56036\n",
            "http://www.wikidata.org/entity/Q56037\n",
            "http://www.wikidata.org/entity/Q64\n",
            "http://sws.geonames.org/11612751/\n",
            "http://sws.geonames.org/2950157\n",
            "http://sws.geonames.org/2950157/\n",
            "http://sws.geonames.org/2950159\n",
            "http://sws.geonames.org/6547383\n",
            "http://sws.geonames.org/6547383/\n",
            "http://sws.geonames.org/6547539/\n",
            "http://af.dbpedia.org/resource/Berlyn\n",
            "http://af.dbpedia.org/resource/Oos-Berlyn\n",
            "http://af.dbpedia.org/resource/Wes-Berlyn\n",
            "http://als.dbpedia.org/resource/Berlin\n",
            "http://als.dbpedia.org/resource/Ostberlin\n",
            "http://als.dbpedia.org/resource/Westberlin\n",
            "http://am.dbpedia.org/resource/በርሊን\n",
            "http://an.dbpedia.org/resource/Berlín\n",
            "http://ar.dbpedia.org/resource/برلين\n",
            "http://ar.dbpedia.org/resource/برلين_الشرقية\n",
            "http://ar.dbpedia.org/resource/برلين_الغربية\n",
            "http://arz.dbpedia.org/resource/بيرلين\n",
            "http://ast.dbpedia.org/resource/Berlín\n",
            "http://ast.dbpedia.org/resource/Berlín_Este\n",
            "http://ast.dbpedia.org/resource/Berlín_Oeste\n",
            "http://az.dbpedia.org/resource/Berlin\n",
            "http://az.dbpedia.org/resource/Qərbi_Berlin\n",
            "http://az.dbpedia.org/resource/Şərqi_Berlin\n",
            "http://azb.dbpedia.org/resource/برلین\n",
            "http://ba.dbpedia.org/resource/Берлин\n",
            "http://bar.dbpedia.org/resource/Berlin\n",
            "http://bar.dbpedia.org/resource/West-Berlin\n",
            "http://be.dbpedia.org/resource/Берлін\n",
            "http://be.dbpedia.org/resource/Заходні_Берлін\n",
            "http://be.dbpedia.org/resource/Усходні_Берлін\n",
            "http://bg.dbpedia.org/resource/Берлин\n",
            "http://bg.dbpedia.org/resource/Западен_Берлин\n",
            "http://bg.dbpedia.org/resource/Източен_Берлин\n",
            "http://bn.dbpedia.org/resource/পূর্ব_বার্লিন\n",
            "http://bn.dbpedia.org/resource/বার্লিন\n",
            "http://br.dbpedia.org/resource/Berlin\n",
            "http://br.dbpedia.org/resource/Berlin_ar_Reter\n",
            "http://bs.dbpedia.org/resource/Berlin\n",
            "http://bs.dbpedia.org/resource/Zapadni_Berlin\n",
            "http://ca.dbpedia.org/resource/Berlín\n",
            "http://ca.dbpedia.org/resource/Berlín_Occidental\n",
            "http://ca.dbpedia.org/resource/Berlín_Oriental\n",
            "http://ceb.dbpedia.org/resource/Berlin\n",
            "http://ceb.dbpedia.org/resource/Berlin_(distrito)\n",
            "http://ckb.dbpedia.org/resource/بەرلین\n",
            "http://cs.dbpedia.org/resource/Berlín\n",
            "http://cs.dbpedia.org/resource/Východní_Berlín\n",
            "http://cs.dbpedia.org/resource/Západní_Berlín\n",
            "http://cv.dbpedia.org/resource/Берлин\n",
            "http://cy.dbpedia.org/resource/Berlin\n",
            "http://cy.dbpedia.org/resource/Dwyrain_Berlin\n",
            "http://cy.dbpedia.org/resource/Gorllewin_Berlin\n",
            "http://da.dbpedia.org/resource/Berlin\n",
            "http://da.dbpedia.org/resource/Vestberlin\n",
            "http://da.dbpedia.org/resource/Østberlin\n",
            "http://de.dbpedia.org/resource/Berlin\n",
            "http://de.dbpedia.org/resource/Ost-Berlin\n",
            "http://el.dbpedia.org/resource/Ανατολικό_Βερολίνο\n",
            "http://el.dbpedia.org/resource/Βερολίνο\n",
            "http://el.dbpedia.org/resource/Δυτικό_Βερολίνο\n",
            "http://eo.dbpedia.org/resource/Berlino\n",
            "http://eo.dbpedia.org/resource/Okcidenta_Berlino\n",
            "http://eo.dbpedia.org/resource/Orienta_Berlino\n",
            "http://es.dbpedia.org/resource/Berlín\n",
            "http://es.dbpedia.org/resource/Berlín_Este\n",
            "http://es.dbpedia.org/resource/Berlín_Occidental\n",
            "http://et.dbpedia.org/resource/Berliin\n",
            "http://et.dbpedia.org/resource/Ida-Berliin\n",
            "http://et.dbpedia.org/resource/Lääne-Berliin\n",
            "http://eu.dbpedia.org/resource/Berlin\n",
            "http://eu.dbpedia.org/resource/Ekialdeko_Berlin\n",
            "http://eu.dbpedia.org/resource/Mendebaldeko_Berlin\n",
            "http://fa.dbpedia.org/resource/برلین\n",
            "http://fa.dbpedia.org/resource/برلین_شرقی\n",
            "http://fa.dbpedia.org/resource/برلین_غربی\n",
            "http://fi.dbpedia.org/resource/Berliini\n",
            "http://fi.dbpedia.org/resource/Itä-Berliini\n",
            "http://fi.dbpedia.org/resource/Länsi-Berliini\n",
            "http://fo.dbpedia.org/resource/Berlin\n",
            "http://fr.dbpedia.org/resource/Berlin\n",
            "http://fr.dbpedia.org/resource/Berlin-Est\n",
            "http://fr.dbpedia.org/resource/Berlin-Ouest\n",
            "http://fy.dbpedia.org/resource/Berlyn\n",
            "http://fy.dbpedia.org/resource/East-Berlyn\n",
            "http://fy.dbpedia.org/resource/West-Berlyn\n",
            "http://ga.dbpedia.org/resource/Beirlín\n",
            "http://gd.dbpedia.org/resource/Berlin\n",
            "http://gl.dbpedia.org/resource/Berlín\n",
            "http://gu.dbpedia.org/resource/બર્લિન\n",
            "http://he.dbpedia.org/resource/ברלין\n",
            "http://he.dbpedia.org/resource/ברלין_המזרחית\n",
            "http://he.dbpedia.org/resource/ברלין_המערבית\n",
            "http://hi.dbpedia.org/resource/बर्लिन\n",
            "http://hr.dbpedia.org/resource/Berlin\n",
            "http://hsb.dbpedia.org/resource/Berlin\n",
            "http://ht.dbpedia.org/resource/Bèlen\n",
            "http://hu.dbpedia.org/resource/Berlin\n",
            "http://hu.dbpedia.org/resource/Kelet-Berlin\n",
            "http://hu.dbpedia.org/resource/Nyugat-Berlin\n",
            "http://hy.dbpedia.org/resource/Արևելյան_Բեռլին\n",
            "http://hy.dbpedia.org/resource/Բեռլին\n",
            "http://ia.dbpedia.org/resource/Berlin\n",
            "http://id.dbpedia.org/resource/Berlin\n",
            "http://id.dbpedia.org/resource/Berlin_Barat\n",
            "http://id.dbpedia.org/resource/Berlin_Timur\n",
            "http://io.dbpedia.org/resource/Berlin\n",
            "http://io.dbpedia.org/resource/West-Berlin\n",
            "http://is.dbpedia.org/resource/Berlín\n",
            "http://it.dbpedia.org/resource/Berlino\n",
            "http://it.dbpedia.org/resource/Berlino_Est\n",
            "http://it.dbpedia.org/resource/Berlino_Ovest\n",
            "http://ja.dbpedia.org/resource/ベルリン\n",
            "http://ja.dbpedia.org/resource/東ベルリン\n",
            "http://ja.dbpedia.org/resource/西ベルリン\n",
            "http://jv.dbpedia.org/resource/Berlin\n",
            "http://jv.dbpedia.org/resource/Berlin_Kulon\n",
            "http://jv.dbpedia.org/resource/Berlin_Wétan\n",
            "http://ka.dbpedia.org/resource/ბერლინი\n",
            "http://ka.dbpedia.org/resource/დასავლეთი_ბერლინი\n",
            "http://kk.dbpedia.org/resource/Берлин\n",
            "http://kn.dbpedia.org/resource/ಬರ್ಲಿನ್\n",
            "http://ko.dbpedia.org/resource/동베를린\n",
            "http://ko.dbpedia.org/resource/베를린\n",
            "http://ko.dbpedia.org/resource/서베를린\n",
            "http://ku.dbpedia.org/resource/Berlîn\n",
            "http://ku.dbpedia.org/resource/Berlîna_Rojava\n",
            "http://ku.dbpedia.org/resource/Berlîna_Rojhilat\n",
            "http://ky.dbpedia.org/resource/Берлин\n",
            "http://la.dbpedia.org/resource/Berolinum\n",
            "http://lb.dbpedia.org/resource/Berlin\n",
            "http://li.dbpedia.org/resource/Berlien\n",
            "http://li.dbpedia.org/resource/Oas-Berlien\n",
            "http://lmo.dbpedia.org/resource/Berlin\n",
            "http://lmo.dbpedia.org/resource/Berlin_Est\n",
            "http://lt.dbpedia.org/resource/Berlynas\n",
            "http://lt.dbpedia.org/resource/Rytų_Berlynas\n",
            "http://lt.dbpedia.org/resource/Vakarų_Berlynas\n",
            "http://lv.dbpedia.org/resource/Austrumberlīne\n",
            "http://lv.dbpedia.org/resource/Berlīne\n",
            "http://lv.dbpedia.org/resource/Rietumberlīne\n",
            "http://mg.dbpedia.org/resource/Berlin\n",
            "http://min.dbpedia.org/resource/Berlin\n",
            "http://mk.dbpedia.org/resource/Берлин\n",
            "http://mk.dbpedia.org/resource/Западен_Берлин\n",
            "http://mk.dbpedia.org/resource/Источен_Берлин\n",
            "http://ml.dbpedia.org/resource/ബെർലിൻ\n",
            "http://mn.dbpedia.org/resource/Берлин\n",
            "http://mr.dbpedia.org/resource/पश्चिम_बर्लिन\n",
            "http://mr.dbpedia.org/resource/पूर्व_बर्लिन\n",
            "http://mr.dbpedia.org/resource/बर्लिन\n",
            "http://mrj.dbpedia.org/resource/Берлин\n",
            "http://ms.dbpedia.org/resource/Berlin\n",
            "http://ms.dbpedia.org/resource/Berlin_Barat\n",
            "http://ms.dbpedia.org/resource/Berlin_Timur\n",
            "http://my.dbpedia.org/resource/ဘာလင်မြို့\n",
            "http://mzn.dbpedia.org/resource/برلین\n",
            "http://nap.dbpedia.org/resource/Berlino\n",
            "http://nds.dbpedia.org/resource/Berlin\n",
            "http://ne.dbpedia.org/resource/बर्लिन\n",
            "http://new.dbpedia.org/resource/बर्लिन\n",
            "http://nl.dbpedia.org/resource/Berlijn\n",
            "http://nl.dbpedia.org/resource/Oost-Berlijn\n",
            "http://nl.dbpedia.org/resource/West-Berlijn\n",
            "http://nn.dbpedia.org/resource/Aust-Berlin\n",
            "http://nn.dbpedia.org/resource/Berlin\n",
            "http://nn.dbpedia.org/resource/Vest-Berlin\n",
            "http://no.dbpedia.org/resource/Berlin\n",
            "http://no.dbpedia.org/resource/Vest-Berlin\n",
            "http://no.dbpedia.org/resource/Øst-Berlin\n",
            "http://oc.dbpedia.org/resource/Berlin\n",
            "http://os.dbpedia.org/resource/Берлин\n",
            "http://pa.dbpedia.org/resource/ਬਰਲਿਨ\n",
            "http://pl.dbpedia.org/resource/Berlin\n",
            "http://pl.dbpedia.org/resource/Berlin_(wschodni)\n",
            "http://pl.dbpedia.org/resource/Berlin_Zachodni\n",
            "http://pms.dbpedia.org/resource/Berlin\n",
            "http://pnb.dbpedia.org/resource/برلن\n",
            "http://pnb.dbpedia.org/resource/لیندا_برلن\n",
            "http://pnb.dbpedia.org/resource/چڑھدا_برلن\n",
            "http://pt.dbpedia.org/resource/Berlim\n",
            "http://pt.dbpedia.org/resource/Berlim_Leste\n",
            "http://pt.dbpedia.org/resource/Berlim_Ocidental\n",
            "http://qu.dbpedia.org/resource/Berlin\n",
            "http://ro.dbpedia.org/resource/Berlin\n",
            "http://ro.dbpedia.org/resource/Berlinul_de_Est\n",
            "http://ro.dbpedia.org/resource/Berlinul_de_Vest\n",
            "http://ru.dbpedia.org/resource/Берлин\n",
            "http://ru.dbpedia.org/resource/Восточный_Берлин\n",
            "http://ru.dbpedia.org/resource/Западный_Берлин\n",
            "http://sa.dbpedia.org/resource/बर्लिन\n",
            "http://sah.dbpedia.org/resource/Берлин\n",
            "http://scn.dbpedia.org/resource/Birlinu\n",
            "http://scn.dbpedia.org/resource/Birlinu_est\n",
            "http://sco.dbpedia.org/resource/Berlin\n",
            "http://sh.dbpedia.org/resource/Berlin\n",
            "http://sh.dbpedia.org/resource/Istočni_Berlin\n",
            "http://sh.dbpedia.org/resource/Zapadni_Berlin\n",
            "http://si.dbpedia.org/resource/බර්ලින්\n",
            "http://simple.dbpedia.org/resource/Berlin\n",
            "http://simple.dbpedia.org/resource/East_Berlin\n",
            "http://simple.dbpedia.org/resource/West_Berlin\n",
            "http://sk.dbpedia.org/resource/Berlín\n",
            "http://sk.dbpedia.org/resource/Východný_Berlín\n",
            "http://sk.dbpedia.org/resource/Západný_Berlín\n",
            "http://sl.dbpedia.org/resource/Berlin\n",
            "http://sq.dbpedia.org/resource/Berlini\n",
            "http://sr.dbpedia.org/resource/Берлин\n",
            "http://sr.dbpedia.org/resource/Западни_Берлин\n",
            "http://sr.dbpedia.org/resource/Источни_Берлин\n",
            "http://su.dbpedia.org/resource/Bérlin\n",
            "http://sv.dbpedia.org/resource/Berlin\n",
            "http://sv.dbpedia.org/resource/Västberlin\n",
            "http://sv.dbpedia.org/resource/Östberlin\n",
            "http://sw.dbpedia.org/resource/Berlin\n",
            "http://ta.dbpedia.org/resource/பெர்லின்\n",
            "http://te.dbpedia.org/resource/బెర్లిన్\n",
            "http://tg.dbpedia.org/resource/Берлин\n",
            "http://th.dbpedia.org/resource/เบอร์ลิน\n",
            "http://th.dbpedia.org/resource/เบอร์ลินตะวันตก\n",
            "http://th.dbpedia.org/resource/เบอร์ลินตะวันออก\n",
            "http://tl.dbpedia.org/resource/Berlin\n",
            "http://tl.dbpedia.org/resource/Kanlurang_Berlin\n",
            "http://tl.dbpedia.org/resource/Silangang_Berlin\n",
            "http://tr.dbpedia.org/resource/Batı_Berlin\n",
            "http://tr.dbpedia.org/resource/Berlin\n",
            "http://tr.dbpedia.org/resource/Doğu_Berlin\n",
            "http://tt.dbpedia.org/resource/Берлин\n",
            "http://uk.dbpedia.org/resource/Берлін\n",
            "http://uk.dbpedia.org/resource/Західний_Берлін\n",
            "http://uk.dbpedia.org/resource/Східний_Берлін\n",
            "http://ur.dbpedia.org/resource/برلن\n",
            "http://ur.dbpedia.org/resource/مشرقی_برلن\n",
            "http://ur.dbpedia.org/resource/مغربی_برلن\n",
            "http://uz.dbpedia.org/resource/Berlin\n",
            "http://vec.dbpedia.org/resource/Berlin\n",
            "http://vi.dbpedia.org/resource/Berlin\n",
            "http://vi.dbpedia.org/resource/Tây_Berlin\n",
            "http://vi.dbpedia.org/resource/Đông_Berlin\n",
            "http://vo.dbpedia.org/resource/Berlin\n",
            "http://war.dbpedia.org/resource/Berlin\n",
            "http://war.dbpedia.org/resource/Natondan_nga_Berlin\n",
            "http://war.dbpedia.org/resource/Sinirangan_nga_Berlin\n",
            "http://yi.dbpedia.org/resource/בערלין\n",
            "http://yo.dbpedia.org/resource/Berlin\n",
            "http://zh.dbpedia.org/resource/东柏林\n",
            "http://zh.dbpedia.org/resource/柏林\n",
            "http://zh.dbpedia.org/resource/西柏林\n",
            "http://ce.dbpedia.org/resource/Берлин\n",
            "http://data.wordlift.io/wl0216/entity/berlin\n",
            "https://global.dbpedia.org/id/2wvzs\n"
          ]
        }
      ]
    },
    {
      "cell_type": "code",
      "source": [
        "population = URIRef('http://dbpedia.org/ontology/populationTotal')\n",
        "for o in g.objects(None, population):\n",
        "  print(o)"
      ],
      "metadata": {
        "colab": {
          "base_uri": "https://localhost:8080/"
        },
        "id": "iK4AVZoZmwKE",
        "outputId": "d1797499-01af-4abb-852b-d419f5e89a9c"
      },
      "execution_count": 21,
      "outputs": [
        {
          "output_type": "stream",
          "name": "stdout",
          "text": [
            "3677472\n"
          ]
        }
      ]
    },
    {
      "cell_type": "markdown",
      "source": [
        "Getting one specific value from Graph"
      ],
      "metadata": {
        "id": "QUc7mGOmo0k8"
      }
    },
    {
      "cell_type": "code",
      "source": [
        "from rdflib import Namespace\n",
        "DBO = Namespace('http://dbpedia.org/ontology/')\n",
        "DBR = Namespace('http://dbpedia.org/resource/')\n",
        "\n",
        "print(g.value(DBR['Berlin'], DBO['populationTotal'], None))"
      ],
      "metadata": {
        "colab": {
          "base_uri": "https://localhost:8080/"
        },
        "id": "B6P4vCKUmwG9",
        "outputId": "8c334217-4f15-423c-80d9-40fc2004a980"
      },
      "execution_count": 22,
      "outputs": [
        {
          "output_type": "stream",
          "name": "stdout",
          "text": [
            "3677472\n"
          ]
        }
      ]
    },
    {
      "cell_type": "code",
      "source": [
        "DBO = Namespace('http://dbpedia.org/ontology/')\n",
        "DBR = Namespace('http://dbpedia.org/resource/')\n",
        "\n",
        "print(g.value(DBR['Berlin'], DBO['populationMetro'], None))"
      ],
      "metadata": {
        "colab": {
          "base_uri": "https://localhost:8080/"
        },
        "id": "uKbsxWA_mwDp",
        "outputId": "6444abc1-16ab-4a5a-de38-a631e2e031de"
      },
      "execution_count": 23,
      "outputs": [
        {
          "output_type": "stream",
          "name": "stdout",
          "text": [
            "6144600\n"
          ]
        }
      ]
    },
    {
      "cell_type": "code",
      "source": [
        "DBO = Namespace('http://dbpedia.org/ontology/')\n",
        "DBR = Namespace('http://dbpedia.org/resource/')\n",
        "\n",
        "print(g.value(DBR['Berlin'], RDFS.label, None))"
      ],
      "metadata": {
        "colab": {
          "base_uri": "https://localhost:8080/"
        },
        "id": "j0kKDkA9mwAY",
        "outputId": "6d9a5d58-751a-4126-9128-2d75819a6a5d"
      },
      "execution_count": 24,
      "outputs": [
        {
          "output_type": "stream",
          "name": "stdout",
          "text": [
            "Östberlin\n"
          ]
        }
      ]
    }
  ]
}