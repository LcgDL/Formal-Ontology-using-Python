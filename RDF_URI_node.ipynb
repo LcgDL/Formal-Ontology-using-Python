{
  "nbformat": 4,
  "nbformat_minor": 0,
  "metadata": {
    "colab": {
      "provenance": []
    },
    "kernelspec": {
      "name": "python3",
      "display_name": "Python 3"
    },
    "language_info": {
      "name": "python"
    }
  },
  "cells": [
    {
      "cell_type": "markdown",
      "source": [
        "#RDF URI nodes"
      ],
      "metadata": {
        "id": "lxKFF0z01sPn"
      }
    },
    {
      "cell_type": "code",
      "source": [
        "!pip install rdflib"
      ],
      "metadata": {
        "colab": {
          "base_uri": "https://localhost:8080/"
        },
        "id": "kdLHcZouo6lX",
        "outputId": "6bc9eec2-af58-4b3e-fd5c-0f8f3003c8f0"
      },
      "execution_count": 3,
      "outputs": [
        {
          "output_type": "stream",
          "name": "stdout",
          "text": [
            "Collecting rdflib\n",
            "  Downloading rdflib-7.0.0-py3-none-any.whl (531 kB)\n",
            "\u001b[?25l     \u001b[90m━━━━━━━━━━━━━━━━━━━━━━━━━━━━━━━━━━━━━━━━\u001b[0m \u001b[32m0.0/531.9 kB\u001b[0m \u001b[31m?\u001b[0m eta \u001b[36m-:--:--\u001b[0m\r\u001b[2K     \u001b[91m━━━━━━━━━━━\u001b[0m\u001b[91m╸\u001b[0m\u001b[90m━━━━━━━━━━━━━━━━━━━━━━━━━━━━\u001b[0m \u001b[32m153.6/531.9 kB\u001b[0m \u001b[31m4.5 MB/s\u001b[0m eta \u001b[36m0:00:01\u001b[0m\r\u001b[2K     \u001b[91m━━━━━━━━━━━━━━━━━━━━━━━━━━━━━━━━━━━━━━━\u001b[0m\u001b[90m╺\u001b[0m \u001b[32m522.2/531.9 kB\u001b[0m \u001b[31m7.9 MB/s\u001b[0m eta \u001b[36m0:00:01\u001b[0m\r\u001b[2K     \u001b[90m━━━━━━━━━━━━━━━━━━━━━━━━━━━━━━━━━━━━━━━━\u001b[0m \u001b[32m531.9/531.9 kB\u001b[0m \u001b[31m7.0 MB/s\u001b[0m eta \u001b[36m0:00:00\u001b[0m\n",
            "\u001b[?25hCollecting isodate<0.7.0,>=0.6.0 (from rdflib)\n",
            "  Downloading isodate-0.6.1-py2.py3-none-any.whl (41 kB)\n",
            "\u001b[2K     \u001b[90m━━━━━━━━━━━━━━━━━━━━━━━━━━━━━━━━━━━━━━━━\u001b[0m \u001b[32m41.7/41.7 kB\u001b[0m \u001b[31m2.6 MB/s\u001b[0m eta \u001b[36m0:00:00\u001b[0m\n",
            "\u001b[?25hRequirement already satisfied: pyparsing<4,>=2.1.0 in /usr/local/lib/python3.10/dist-packages (from rdflib) (3.1.1)\n",
            "Requirement already satisfied: six in /usr/local/lib/python3.10/dist-packages (from isodate<0.7.0,>=0.6.0->rdflib) (1.16.0)\n",
            "Installing collected packages: isodate, rdflib\n",
            "Successfully installed isodate-0.6.1 rdflib-7.0.0\n"
          ]
        }
      ]
    },
    {
      "cell_type": "code",
      "execution_count": 9,
      "metadata": {
        "id": "iyWPALjwmm21"
      },
      "outputs": [],
      "source": [
        "from rdflib import Graph, Literal, RDF, URIRef\n",
        "from rdflib.namespace import FOAF, XSD"
      ]
    },
    {
      "cell_type": "code",
      "source": [
        "g = Graph()"
      ],
      "metadata": {
        "id": "vweV0NW-on3k"
      },
      "execution_count": 10,
      "outputs": []
    },
    {
      "cell_type": "markdown",
      "source": [
        "Creation of a RDF URI node (subject for triples)"
      ],
      "metadata": {
        "id": "DK9TRZ0Cpieq"
      }
    },
    {
      "cell_type": "code",
      "source": [
        "raquel = URIRef('http://example.org/raquel')\n",
        "filip =  URIRef('http://example.org/filip')"
      ],
      "metadata": {
        "id": "JoZTaBasonz-"
      },
      "execution_count": 11,
      "outputs": []
    },
    {
      "cell_type": "markdown",
      "source": [
        "Add triples using add()"
      ],
      "metadata": {
        "id": "SyMZyBUqvYJC"
      }
    },
    {
      "cell_type": "code",
      "source": [
        "g.add((raquel, RDF.type, FOAF.Person))\n",
        "g.add((raquel, FOAF.nick, Literal(\"raquel\",lang=\"en\")))\n",
        "g.add((raquel, FOAF.name, Literal(\"Raquel Meyer\")))\n",
        "g.add((raquel, FOAF.mbox, URIRef(\"mailto:raquel@example.org\")))"
      ],
      "metadata": {
        "colab": {
          "base_uri": "https://localhost:8080/"
        },
        "id": "YFjmEiwlonwj",
        "outputId": "a02cc58b-9d3e-494a-fb0b-65875d96eb3b"
      },
      "execution_count": 14,
      "outputs": [
        {
          "output_type": "execute_result",
          "data": {
            "text/plain": [
              "<Graph identifier=N6c5b647cc82445e5aad2e4aaaaddaf24 (<class 'rdflib.graph.Graph'>)>"
            ]
          },
          "metadata": {},
          "execution_count": 14
        }
      ]
    },
    {
      "cell_type": "code",
      "source": [
        "#adding the other person\n",
        "g.add((filip, RDF.type, FOAF.Person))\n",
        "g.add((filip, FOAF.nick, Literal(\"filip\",lang=\"en\")))\n",
        "g.add((filip, FOAF.name, Literal(\"Filip Johansson\")))\n",
        "g.add((filip, FOAF.mbox, URIRef(\"mailto:filip@example.org\")))"
      ],
      "metadata": {
        "colab": {
          "base_uri": "https://localhost:8080/"
        },
        "id": "O-iEIlmWonc-",
        "outputId": "81ac7738-ddfa-4198-abf9-1841f9181ed8"
      },
      "execution_count": 15,
      "outputs": [
        {
          "output_type": "execute_result",
          "data": {
            "text/plain": [
              "<Graph identifier=N6c5b647cc82445e5aad2e4aaaaddaf24 (<class 'rdflib.graph.Graph'>)>"
            ]
          },
          "metadata": {},
          "execution_count": 15
        }
      ]
    },
    {
      "cell_type": "code",
      "source": [
        "for s,p,o in g:\n",
        "  print(s,p,o)"
      ],
      "metadata": {
        "colab": {
          "base_uri": "https://localhost:8080/"
        },
        "id": "C5iS5Ix5onZT",
        "outputId": "a95d81e2-dd5d-409c-9831-2c1776b51eb5"
      },
      "execution_count": 16,
      "outputs": [
        {
          "output_type": "stream",
          "name": "stdout",
          "text": [
            "http://example.org/raquel http://xmlns.com/foaf/0.1/nick raquel\n",
            "http://example.org/filip http://www.w3.org/1999/02/22-rdf-syntax-ns#type http://xmlns.com/foaf/0.1/Person\n",
            "http://example.org/filip http://xmlns.com/foaf/0.1/nick filip\n",
            "http://example.org/raquel http://xmlns.com/foaf/0.1/name Raquel Meyer\n",
            "http://example.org/filip http://xmlns.com/foaf/0.1/mbox mailto:filip@example.org\n",
            "http://example.org/raquel http://xmlns.com/foaf/0.1/mbox mailto:raquel@example.org\n",
            "http://example.org/raquel http://www.w3.org/1999/02/22-rdf-syntax-ns#type http://xmlns.com/foaf/0.1/Person\n",
            "http://example.org/filip http://xmlns.com/foaf/0.1/name Filip Johansson\n"
          ]
        }
      ]
    },
    {
      "cell_type": "markdown",
      "source": [
        "Printing the nickname values of these persons"
      ],
      "metadata": {
        "id": "OdLOpD3DzVd4"
      }
    },
    {
      "cell_type": "code",
      "source": [
        "for p in g.subjects(RDF.type, FOAF.Person):\n",
        "  for nm in g.objects(p, FOAF.nick):\n",
        "    print(nm)"
      ],
      "metadata": {
        "colab": {
          "base_uri": "https://localhost:8080/"
        },
        "id": "EytUab6lxdmF",
        "outputId": "8bd75162-84ff-4273-d5f4-a92c703d9412"
      },
      "execution_count": 18,
      "outputs": [
        {
          "output_type": "stream",
          "name": "stdout",
          "text": [
            "raquel\n",
            "filip\n"
          ]
        }
      ]
    },
    {
      "cell_type": "markdown",
      "source": [
        "Binding the FOAF namespace to a prefix to achive a readeable output"
      ],
      "metadata": {
        "id": "6Q9V-CB_1Did"
      }
    },
    {
      "cell_type": "code",
      "source": [
        "g.bind(\"foaf\", FOAF)\n",
        "\n",
        "#the data in n3 format\n",
        "print(g.serialize(format='n3'))"
      ],
      "metadata": {
        "colab": {
          "base_uri": "https://localhost:8080/"
        },
        "id": "M2FgnRin0NkJ",
        "outputId": "0166912f-1f34-4582-cd8e-cd3167eefd86"
      },
      "execution_count": 20,
      "outputs": [
        {
          "output_type": "stream",
          "name": "stdout",
          "text": [
            "@prefix foaf: <http://xmlns.com/foaf/0.1/> .\n",
            "\n",
            "<http://example.org/filip> a foaf:Person ;\n",
            "    foaf:mbox <mailto:filip@example.org> ;\n",
            "    foaf:name \"Filip Johansson\" ;\n",
            "    foaf:nick \"filip\"@en .\n",
            "\n",
            "<http://example.org/raquel> a foaf:Person ;\n",
            "    foaf:mbox <mailto:raquel@example.org> ;\n",
            "    foaf:name \"Raquel Meyer\" ;\n",
            "    foaf:nick \"raquel\"@en .\n",
            "\n",
            "\n"
          ]
        }
      ]
    }
  ]
}