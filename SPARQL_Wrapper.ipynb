{
  "nbformat": 4,
  "nbformat_minor": 0,
  "metadata": {
    "colab": {
      "provenance": []
    },
    "kernelspec": {
      "name": "python3",
      "display_name": "Python 3"
    },
    "language_info": {
      "name": "python"
    }
  },
  "cells": [
    {
      "cell_type": "code",
      "source": [
        "!pip install rdflib\n",
        "!pip install SPARQLWrapper"
      ],
      "metadata": {
        "colab": {
          "base_uri": "https://localhost:8080/"
        },
        "id": "oXUPy05ROh4A",
        "outputId": "defc4c1e-0854-41dd-8bd0-f2aa341e592d"
      },
      "execution_count": 1,
      "outputs": [
        {
          "output_type": "stream",
          "name": "stdout",
          "text": [
            "Collecting rdflib\n",
            "  Downloading rdflib-7.0.0-py3-none-any.whl (531 kB)\n",
            "\u001b[2K     \u001b[90m━━━━━━━━━━━━━━━━━━━━━━━━━━━━━━━━━━━━━━━━\u001b[0m \u001b[32m531.9/531.9 kB\u001b[0m \u001b[31m7.3 MB/s\u001b[0m eta \u001b[36m0:00:00\u001b[0m\n",
            "\u001b[?25hCollecting isodate<0.7.0,>=0.6.0 (from rdflib)\n",
            "  Downloading isodate-0.6.1-py2.py3-none-any.whl (41 kB)\n",
            "\u001b[2K     \u001b[90m━━━━━━━━━━━━━━━━━━━━━━━━━━━━━━━━━━━━━━━━\u001b[0m \u001b[32m41.7/41.7 kB\u001b[0m \u001b[31m3.8 MB/s\u001b[0m eta \u001b[36m0:00:00\u001b[0m\n",
            "\u001b[?25hRequirement already satisfied: pyparsing<4,>=2.1.0 in /usr/local/lib/python3.10/dist-packages (from rdflib) (3.1.1)\n",
            "Requirement already satisfied: six in /usr/local/lib/python3.10/dist-packages (from isodate<0.7.0,>=0.6.0->rdflib) (1.16.0)\n",
            "Installing collected packages: isodate, rdflib\n",
            "Successfully installed isodate-0.6.1 rdflib-7.0.0\n",
            "Collecting SPARQLWrapper\n",
            "  Downloading SPARQLWrapper-2.0.0-py3-none-any.whl (28 kB)\n",
            "Requirement already satisfied: rdflib>=6.1.1 in /usr/local/lib/python3.10/dist-packages (from SPARQLWrapper) (7.0.0)\n",
            "Requirement already satisfied: isodate<0.7.0,>=0.6.0 in /usr/local/lib/python3.10/dist-packages (from rdflib>=6.1.1->SPARQLWrapper) (0.6.1)\n",
            "Requirement already satisfied: pyparsing<4,>=2.1.0 in /usr/local/lib/python3.10/dist-packages (from rdflib>=6.1.1->SPARQLWrapper) (3.1.1)\n",
            "Requirement already satisfied: six in /usr/local/lib/python3.10/dist-packages (from isodate<0.7.0,>=0.6.0->rdflib>=6.1.1->SPARQLWrapper) (1.16.0)\n",
            "Installing collected packages: SPARQLWrapper\n",
            "Successfully installed SPARQLWrapper-2.0.0\n"
          ]
        }
      ]
    },
    {
      "cell_type": "code",
      "source": [
        "from rdflib import Graph\n",
        "from SPARQLWrapper import SPARQLWrapper, JSON, N3\n",
        "from pprint import pprint"
      ],
      "metadata": {
        "id": "kgxraYegOh1E"
      },
      "execution_count": 2,
      "outputs": []
    },
    {
      "cell_type": "code",
      "source": [
        "sparql = SPARQLWrapper('https://dbpedia.org/sparql')\n",
        "sparql.setQuery('''\n",
        "    SELECT ?object\n",
        "    WHERE { dbr:Barack_Obama rdfs:label ?object .}\n",
        "''')\n",
        "sparql.setReturnFormat(JSON)\n",
        "qres = sparql.query().convert()\n",
        "pprint(qres)"
      ],
      "metadata": {
        "id": "sYiIesU4Ohx-",
        "colab": {
          "base_uri": "https://localhost:8080/"
        },
        "outputId": "d75b3ae1-35ec-4c97-c1f4-15d54292915c"
      },
      "execution_count": 5,
      "outputs": [
        {
          "output_type": "stream",
          "name": "stdout",
          "text": [
            "{'head': {'link': [], 'vars': ['object']},\n",
            " 'results': {'bindings': [{'object': {'type': 'literal',\n",
            "                                      'value': 'Barack Obama',\n",
            "                                      'xml:lang': 'en'}},\n",
            "                          {'object': {'type': 'literal',\n",
            "                                      'value': 'باراك أوباما',\n",
            "                                      'xml:lang': 'ar'}},\n",
            "                          {'object': {'type': 'literal',\n",
            "                                      'value': 'Barack Obama',\n",
            "                                      'xml:lang': 'ca'}},\n",
            "                          {'object': {'type': 'literal',\n",
            "                                      'value': 'Barack Obama',\n",
            "                                      'xml:lang': 'cs'}},\n",
            "                          {'object': {'type': 'literal',\n",
            "                                      'value': 'Barack Obama',\n",
            "                                      'xml:lang': 'de'}},\n",
            "                          {'object': {'type': 'literal',\n",
            "                                      'value': 'Μπαράκ Ομπάμα',\n",
            "                                      'xml:lang': 'el'}},\n",
            "                          {'object': {'type': 'literal',\n",
            "                                      'value': 'Barack Obama',\n",
            "                                      'xml:lang': 'eo'}},\n",
            "                          {'object': {'type': 'literal',\n",
            "                                      'value': 'Barack Obama',\n",
            "                                      'xml:lang': 'es'}},\n",
            "                          {'object': {'type': 'literal',\n",
            "                                      'value': 'Barack Obama',\n",
            "                                      'xml:lang': 'eu'}},\n",
            "                          {'object': {'type': 'literal',\n",
            "                                      'value': 'Barack Obama',\n",
            "                                      'xml:lang': 'ga'}},\n",
            "                          {'object': {'type': 'literal',\n",
            "                                      'value': 'Barack Obama',\n",
            "                                      'xml:lang': 'in'}},\n",
            "                          {'object': {'type': 'literal',\n",
            "                                      'value': 'Barack Obama',\n",
            "                                      'xml:lang': 'fr'}},\n",
            "                          {'object': {'type': 'literal',\n",
            "                                      'value': 'Barack Obama',\n",
            "                                      'xml:lang': 'it'}},\n",
            "                          {'object': {'type': 'literal',\n",
            "                                      'value': '버락 오바마',\n",
            "                                      'xml:lang': 'ko'}},\n",
            "                          {'object': {'type': 'literal',\n",
            "                                      'value': 'バラク・オバマ',\n",
            "                                      'xml:lang': 'ja'}},\n",
            "                          {'object': {'type': 'literal',\n",
            "                                      'value': 'Barack Obama',\n",
            "                                      'xml:lang': 'nl'}},\n",
            "                          {'object': {'type': 'literal',\n",
            "                                      'value': 'Barack Obama',\n",
            "                                      'xml:lang': 'pl'}},\n",
            "                          {'object': {'type': 'literal',\n",
            "                                      'value': 'Barack Obama',\n",
            "                                      'xml:lang': 'pt'}},\n",
            "                          {'object': {'type': 'literal',\n",
            "                                      'value': 'Обама, Барак',\n",
            "                                      'xml:lang': 'ru'}},\n",
            "                          {'object': {'type': 'literal',\n",
            "                                      'value': 'Barack Obama',\n",
            "                                      'xml:lang': 'sv'}},\n",
            "                          {'object': {'type': 'literal',\n",
            "                                      'value': '贝拉克·奥巴马',\n",
            "                                      'xml:lang': 'zh'}},\n",
            "                          {'object': {'type': 'literal',\n",
            "                                      'value': 'Барак Обама',\n",
            "                                      'xml:lang': 'uk'}}],\n",
            "             'distinct': False,\n",
            "             'ordered': True}}\n"
          ]
        }
      ]
    },
    {
      "cell_type": "code",
      "source": [
        "sparql = SPARQLWrapper('https://dbpedia.org/sparql')\n",
        "sparql.setQuery('''\n",
        "    SELECT ?object\n",
        "    WHERE { dbr:Barack_Obama rdfs:label ?object .}\n",
        "''')\n",
        "sparql.setReturnFormat(JSON)\n",
        "qres = sparql.query().convert()\n",
        "#pprint(qres)\n",
        "\n",
        "for result in qres['results']['bindings']:\n",
        "  lang, value = result['object']['xml:lang'], result['object']['value']\n",
        "  if lang == 'en':\n",
        "    print(value)"
      ],
      "metadata": {
        "colab": {
          "base_uri": "https://localhost:8080/"
        },
        "outputId": "f22e15c1-54d6-45f1-e5cb-da69ab811c55",
        "id": "eEadImmYvYSq"
      },
      "execution_count": 7,
      "outputs": [
        {
          "output_type": "stream",
          "name": "stdout",
          "text": [
            "Barack Obama\n"
          ]
        }
      ]
    },
    {
      "cell_type": "code",
      "source": [
        "sparql = SPARQLWrapper('http://dbpedia.org/sparql')\n",
        "sparql.setQuery('''\n",
        "CONSTRUCT { dbc:Machine_learning skos:broader ?parent .\n",
        "            dbc:Machine_learning skos:narrower ?child .}\n",
        "WHERE {\n",
        "    { dbc:Machine_learning skos:broader ?parent .}\n",
        "UNION\n",
        "    { ?child skos:broader dbc:Machine_learning .}\n",
        "}''')\n",
        "\n",
        "sparql.setReturnFormat(N3)\n",
        "qres = sparql.query().convert()\n",
        "\n",
        "g = Graph()\n",
        "g.parse(data=qres, format='n3')\n",
        "print(g.serialize(format='ttl'))"
      ],
      "metadata": {
        "id": "Dq1nWto5Ohsr",
        "colab": {
          "base_uri": "https://localhost:8080/"
        },
        "outputId": "77689715-d710-4727-f721-dbf1b21cdeb3"
      },
      "execution_count": 11,
      "outputs": [
        {
          "output_type": "stream",
          "name": "stdout",
          "text": [
            "@prefix dbc: <http://dbpedia.org/resource/Category:> .\n",
            "@prefix skos: <http://www.w3.org/2004/02/skos/core#> .\n",
            "\n",
            "dbc:Machine_learning skos:broader dbc:Artificial_intelligence,\n",
            "        dbc:Learning ;\n",
            "    skos:narrower dbc:Applied_machine_learning,\n",
            "        dbc:Artificial_intelligence_conferences,\n",
            "        dbc:Artificial_neural_networks,\n",
            "        dbc:Bayesian_networks,\n",
            "        dbc:Blockmodeling,\n",
            "        dbc:Classification_algorithms,\n",
            "        dbc:Cluster_analysis,\n",
            "        dbc:Computational_learning_theory,\n",
            "        dbc:Data_mining_and_machine_learning_software,\n",
            "        dbc:Datasets_in_machine_learning,\n",
            "        dbc:Deep_learning,\n",
            "        dbc:Dimension_reduction,\n",
            "        dbc:Ensemble_learning,\n",
            "        dbc:Evolutionary_algorithms,\n",
            "        dbc:Genetic_programming,\n",
            "        dbc:Inductive_logic_programming,\n",
            "        dbc:Kernel_methods_for_machine_learning,\n",
            "        dbc:Latent_variable_models,\n",
            "        dbc:Learning_in_computer_vision,\n",
            "        dbc:Log-linear_models,\n",
            "        dbc:Loss_functions,\n",
            "        dbc:Machine_learning_algorithms,\n",
            "        dbc:Machine_learning_researchers,\n",
            "        dbc:Machine_learning_task,\n",
            "        dbc:Markov_models,\n",
            "        dbc:Natural_language_processing_researchers,\n",
            "        dbc:Ontology_learning_\\(computer_science\\),\n",
            "        dbc:Reinforcement_learning,\n",
            "        dbc:Semisupervised_learning,\n",
            "        dbc:Signal_processing_conferences,\n",
            "        dbc:Statistical_natural_language_processing,\n",
            "        dbc:Structured_prediction,\n",
            "        dbc:Supervised_learning,\n",
            "        dbc:Support_vector_machines,\n",
            "        dbc:Unsupervised_learning .\n",
            "\n",
            "\n"
          ]
        }
      ]
    },
    {
      "cell_type": "code",
      "source": [
        "from IPython.display import display\n",
        "from io import BytesIO\n",
        "from PIL import Image\n",
        "import requests\n",
        "\n",
        "sparql = SPARQLWrapper('https://dbpedia.org/sparql')\n",
        "\n",
        "instruments = ['Nadaswaram', 'Trombone', 'Air_horn', 'Kazoo', 'Mandolin', 'Clavichord', 'Kaval', 'Electronic_keyboard', 'Choghur', 'Zill']\n",
        "\n",
        "for instrument in instruments:\n",
        "    print('###########################################')\n",
        "    sparql.setQuery(f'''\n",
        "    SELECT ?name ?comment ?image\n",
        "    WHERE {{ dbr:{instrument} rdfs:label ?name.\n",
        "             dbr:{instrument} rdfs:comment ?comment.\n",
        "             dbr:{instrument} dbo:thumbnail ?image.\n",
        "\n",
        "        FILTER (lang(?name) = 'en')\n",
        "        FILTER (lang(?comment) = 'en')\n",
        "    }}''')\n",
        "\n",
        "    sparql.setReturnFormat(JSON)\n",
        "    qres = sparql.query().convert()\n",
        "\n",
        "    result = qres['results']['bindings'][0]\n",
        "    name, comment, image_url = result['name']['value'], result['comment']['value'], result['image']['value']\n",
        "\n",
        "    print(name)\n",
        "    response = requests.get(image_url)\n",
        "    #display(Image.open(BytesIO(response.content)))\n",
        "    print(f'{comment}...')"
      ],
      "metadata": {
        "id": "IpJQ8Q8POhpp",
        "colab": {
          "base_uri": "https://localhost:8080/"
        },
        "outputId": "5a49bc29-d6f5-47e8-8423-d30a5307326a"
      },
      "execution_count": 19,
      "outputs": [
        {
          "output_type": "stream",
          "name": "stdout",
          "text": [
            "###########################################\n",
            "Nadaswaram\n",
            "The Nagaswaram (nādḥasvaram) is a double reed wind instrument from South India. It is used as a traditional classical instrument in Tamil Nadu, Andhra Pradesh, Telangana, Karnataka, and Kerala. This instrument is \"among the world's loudest non-brass acoustic instruments\". It is a wind instrument partially similar to the North Indian shehnai, but much longer, with a hardwood body, and a large flaring bell made of wood or metal....\n",
            "###########################################\n",
            "Trombone\n",
            "The trombone (German: Posaune, Italian, French: trombone) is a musical instrument in the brass family. As with all brass instruments, sound is produced when the player's vibrating lips cause the air column inside the instrument to vibrate. Nearly all trombones use a telescoping slide mechanism to alter the pitch instead of the valves used by other brass instruments. The valve trombone is an exception, using three valves similar to those on a trumpet, and the superbone has valves and a slide. A person who plays the trombone is called a trombonist or trombone player....\n",
            "###########################################\n",
            "Air horn\n",
            "An air horn is a pneumatic device designed to create an extremely loud noise for signaling purposes. It usually consists of a source which produces compressed air, which passes into a horn through a reed or diaphragm. The stream of air causes the reed or diaphragm to vibrate, creating sound waves, then the horn amplifies the sound making it louder. Air horns are widely employed as vehicle horns, installed on large buses, semi-trailer trucks, fire trucks, trains, and some ambulances as a warning device, and on ships as a signaling device....\n",
            "###########################################\n",
            "Kazoo\n",
            "The kazoo is an American musical instrument that adds a \"buzzing\" timbral quality to a player's voice when the player vocalizes into it. It is a type of mirliton (which itself is a membranophone), one of a class of instruments which modifies its player's voice by way of a vibrating membrane of goldbeater's skin or material with similar characteristics. Similar hide-covered vibrating and voice-changing instruments have been used in Africa for hundreds of years....\n",
            "###########################################\n",
            "Mandolin\n",
            "A mandolin (Italian: mandolino pronounced [mandoˈliːno]; literally \"small mandola\") is a stringed musical instrument in the lute family and is generally plucked with a pick. It most commonly has four courses of doubled metal strings tuned in unison, thus giving a total of 8 strings, although five (10 strings) and six (12 strings) course versions also exist. The courses are typically tuned in an interval of perfect fifths, with the same tuning as a violin (G3, D4, A4, E5). Also, like the violin, it is the soprano member of a family that includes the mandola, octave mandolin, mandocello and mandobass....\n",
            "###########################################\n",
            "Clavichord\n",
            "The clavichord is a stringed rectangular keyboard instrument that was used largely in the Late Middle Ages, through the Renaissance, Baroque and Classical eras.Historically, it was mostly used as a practice instrument and as an aid to composition, not being loud enough for larger performances. The clavichord produces sound by striking brass or iron strings with small metal blades called tangents. Vibrations are transmitted through the bridge(s) to the soundboard....\n",
            "###########################################\n",
            "Kaval\n",
            "The kaval is a chromatic end-blown flute traditionally played throughout the Balkans (in Albania, Romania, Bulgaria, Southern Serbia, Kosovo, North Macedonia, Northern Greece, and elsewhere) and Anatolia (including Turkey and Armenia). The kaval is primarily associated with mountain shepherds....\n",
            "###########################################\n",
            "Electronic keyboard\n",
            "An electronic keyboard, portable keyboard, or digital keyboard is an electronic musical instrument, an electronic derivative of keyboard instruments. Electronic keyboards include synthesizers, digital pianos, stage pianos, electronic organs and digital audio workstations. In technical terms, an electronic keyboard is a synthesizer with a low-wattage power amplifier and small loudspeakers....\n",
            "###########################################\n",
            "Choghur\n",
            "The choghur (Azerbaijani: Çoğur; Georgian: ჩონგური) is a plucked string musical instrument common in Azerbaijan and Georgia. It has 4 nylon strings. The choghur dates back to the 12th to 16th centuries, the period between the gopuz and the Bağlama. In the Caucasus, Iran and Anatolia, and in Sufi traditions, darvishes and ashugs used an instrument called the \"chaghyr\" /\"chagur\"/ \"chugur\" / \"choghur\" / \"chungur\". Presumably, the name \"choghur\" means \"the musical instrument used to appeal to God and truth\". [In Azerbaijani the word \"chaghir\" means \"to call\", \"to appeal\"] It may be assumed that the name of the instrument originates from the expression \"chal-chaghyr\" (festivity or celebration), which was later changed to \"choghur\". Various historical sources indicate that the choghur was used t...\n",
            "###########################################\n",
            "Zill\n",
            "Zills or zils (from Turkish zil 'cymbals'), also called finger cymbals, are small metallic cymbals used in belly dancing and similar performances. They are called sāgāt (‏صاجات‎) in Egypt. They are similar to Tibetan tingsha bells. In Western music, several pairs can be set in a frame to make a tambourine. Names in other languages include nuqaisāt in Arabic and used among Berbers, Zang-e sarangoshti (سنج انگشتی) in Persian, çeng in Turkish, p'eng chung in Chinese....\n"
          ]
        }
      ]
    },
    {
      "cell_type": "code",
      "source": [],
      "metadata": {
        "id": "s7Oh7_7vOhmv"
      },
      "execution_count": null,
      "outputs": []
    },
    {
      "cell_type": "code",
      "source": [],
      "metadata": {
        "id": "4JklyJOHOhjt"
      },
      "execution_count": null,
      "outputs": []
    },
    {
      "cell_type": "code",
      "source": [],
      "metadata": {
        "id": "xfnQ6jU6Ohgp"
      },
      "execution_count": null,
      "outputs": []
    },
    {
      "cell_type": "code",
      "source": [],
      "metadata": {
        "id": "CX1cNVuzOhdR"
      },
      "execution_count": null,
      "outputs": []
    },
    {
      "cell_type": "code",
      "source": [],
      "metadata": {
        "id": "MMl4jhA5OhZ_"
      },
      "execution_count": null,
      "outputs": []
    },
    {
      "cell_type": "code",
      "source": [],
      "metadata": {
        "id": "0D-IHg9JOhXA"
      },
      "execution_count": null,
      "outputs": []
    },
    {
      "cell_type": "code",
      "execution_count": null,
      "metadata": {
        "id": "X3u526A0Od9P"
      },
      "outputs": [],
      "source": []
    }
  ]
}